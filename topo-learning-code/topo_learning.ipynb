{
 "cells": [
  {
   "cell_type": "markdown",
   "id": "6ebd068d",
   "metadata": {},
   "source": [
    "# Imports:"
   ]
  },
  {
   "cell_type": "code",
   "execution_count": null,
   "id": "fffb7288",
   "metadata": {},
   "outputs": [],
   "source": [
    "import numpy as np\n",
    "import matplotlib.pyplot as plt\n",
    "import IPython\n",
    "from keras.datasets import mnist\n",
    "from keras.utils import to_categorical\n",
    "from keras.models import Sequential\n",
    "from keras.layers import Dense\n",
    "from keras import initializers, optimizers\n",
    "from keras.callbacks import Callback\n",
    "import kmapper as km\n",
    "from sklearn.cluster import DBSCAN\n",
    "from sklearn.decomposition import PCA\n",
    "from sklearn.manifold import TSNE\n",
    "import gudhi as gd\n",
    "import umap\n",
    "from kmapper.plotlyviz import plotlyviz\n",
    "import plotly.io as pio\n",
    "from PIL import Image\n",
    "import io"
   ]
  },
  {
   "cell_type": "markdown",
   "id": "147f01af",
   "metadata": {},
   "source": [
    "# Data"
   ]
  },
  {
   "cell_type": "markdown",
   "id": "c3878ce8",
   "metadata": {},
   "source": [
    "### MNIST podatkovna zbirka\n",
    "- Vsebuje slike ročno napisanih številk od 1 do 10 velikosti **28×28 pik**"
   ]
  },
  {
   "cell_type": "code",
   "execution_count": null,
   "id": "7efec540",
   "metadata": {},
   "outputs": [],
   "source": [
    "# Naložimo podatkovno zbriko\n",
    "(X_train, y_train), (X_test, y_test) = mnist.load_data()\n",
    "\n",
    "digits = (0, 8)\n",
    "\n",
    "# Pomožna funkcija za filtriranje\n",
    "def filter_digits(X, y, digits=(0, 8)):\n",
    "    mask = np.isin(y, digits)\n",
    "    return X[mask], y[mask]\n",
    "\n",
    "# Primeri podatkov\n",
    "fig = plt.figure(figsize=(15, 3))\n",
    "rows, columns = 1, 5\n",
    "\n",
    "# Izbremo 5 naključnih slik\n",
    "random_indices = np.random.choice(len(X_train), size=5, replace=False)\n",
    "\n",
    "for i, idx in enumerate(random_indices, 1):\n",
    "    fig.add_subplot(rows, columns, i)\n",
    "    img = X_train[idx]\n",
    "\n",
    "    plt.imshow(img, cmap='gray')\n",
    "    plt.title(f'Oznaka = {y_train[idx]}')\n",
    "    plt.axis('off')\n",
    "\n",
    "plt.tight_layout()"
   ]
  },
  {
   "cell_type": "markdown",
   "id": "75548988",
   "metadata": {},
   "source": [
    "# Priprava podatkov"
   ]
  },
  {
   "cell_type": "code",
   "execution_count": null,
   "id": "8997c5b5",
   "metadata": {},
   "outputs": [],
   "source": [
    "# Normalizacija\n",
    "X_train, X_test = X_train / 255.0, X_test / 255.0\n",
    "\n",
    "# Pretvorba slik v vektorje pixlov\n",
    "pixels = np.prod(X_train.shape[1:])\n",
    "X_train = X_train.reshape(X_train.shape[0], pixels).astype('float32')\n",
    "X_test = X_test.reshape(X_test.shape[0], pixels).astype('float32')\n",
    "print('Train shape: {}\\nTest shape: {}'.format(X_train.shape, X_test.shape))\n",
    "\n",
    "# Kodiranje oznak v one-hot vektorje\n",
    "y_train = to_categorical(y_train, num_classes=10)\n",
    "y_test = to_categorical(y_test, num_classes=10)"
   ]
  },
  {
   "cell_type": "markdown",
   "id": "c051593a",
   "metadata": {},
   "source": [
    "# Nevronska mreža"
   ]
  },
  {
   "cell_type": "code",
   "execution_count": null,
   "id": "59cb0b2b",
   "metadata": {},
   "outputs": [],
   "source": [
    "def train_model(X_train, \n",
    "                y_train, \n",
    "                X_test, \n",
    "                y_test,\n",
    "                neurons,\n",
    "                init=initializers.RandomNormal(mean=0.0, stddev=0.01, seed=42),\n",
    "                activation='relu', \n",
    "                learning_rate=0.01,\n",
    "                epochs=5, \n",
    "                batch_size=100, \n",
    "                training_steps=500):\n",
    "    \n",
    "    activ = [activation]*(len(neurons)-2)+['softmax']\n",
    "\n",
    "    model = Sequential()\n",
    "    for n in range(1, len(neurons)):\n",
    "        model.add(Dense(neurons[n],\n",
    "                    input_dim=neurons[n-1], \n",
    "                    kernel_initializer=init,\n",
    "                    use_bias=False,\n",
    "                    activation=activ[n-1]))\n",
    "\n",
    "    model.compile(loss='categorical_crossentropy',\n",
    "                  optimizer=optimizers.SGD(learning_rate=learning_rate, momentum=0.0, decay=0.0, nesterov=False),\n",
    "                  metrics=['accuracy'])\n",
    "\n",
    "    # Train model\n",
    "    N_ws = round((len(X_train) * epochs) / (batch_size * training_steps))\n",
    "    WSaver = SaveWeights(N_ws)\n",
    "\n",
    "    calback_list = [WSaver]\n",
    "    history = model.fit(X_train, y_train, validation_data=(X_test, y_test), \n",
    "                        epochs=epochs, batch_size=batch_size, callbacks=calback_list, verbose=2)\n",
    "    model.evaluate(X_test, y_test, verbose=0)\n",
    "\n",
    "    W_layer = {}\n",
    "    for n in range(len(model.layers)):\n",
    "        W_layer[n] = WSaver.weights_layer[n]\n",
    "    steps = len(W_layer[0])\n",
    "    # Lists of vectors of weights for each neuron for each training step\n",
    "    X_layer = {}\n",
    "    for n in range(len(model.layers)):\n",
    "        X_layer[n] = np.squeeze([W_layer[n][i][:, [j]] for i in range(steps) for j in range(neurons[n+1])])\n",
    "    # Labels = [neuron number, training step]\n",
    "    y_layer = {}\n",
    "    for n in range(len(model.layers)):\n",
    "        y_layer[n] = np.array([[j, i] for i in range(steps) for j in range(neurons[n+1])])\n",
    "    # Number of weight matrices saved = 1 + (60000 * epochs) / (batch_size * N_ws)\n",
    "    print('Training steps: {}'.format(steps))\n",
    "\n",
    "    # Plot training and validation accuracy (and loss)\n",
    "    plt.figure(figsize=(15, 4))\n",
    "    plt.plot(history.history['accuracy'])\n",
    "    plt.plot(history.history['val_accuracy'])\n",
    "    plt.title('Model accuracy')\n",
    "    plt.ylabel('Accuracy')\n",
    "    plt.xlabel('Epoch')\n",
    "    plt.legend(['Train', 'Test'], loc='upper left')\n",
    "    plt.tight_layout()\n",
    "    plt.show()\n",
    "    \n",
    "    return W_layer, X_layer, y_layer\n",
    "\n",
    "# Callback funkcija za shranjevanje uteži\n",
    "class SaveWeights(Callback):\n",
    "    def __init__(self, N):\n",
    "        super().__init__()\n",
    "        self.N = N\n",
    "        self.batch = 0\n",
    "        self.weights_layer = {}\n",
    "\n",
    "    def set_model(self, model):\n",
    "        super().set_model(model)\n",
    "\n",
    "    def on_train_begin(self, logs=None):\n",
    "        for n in range(len(self.model.layers)):\n",
    "            self.weights_layer[n] = [self.model.layers[n].get_weights()[0]]\n",
    "\n",
    "    def on_batch_end(self, batch, logs=None):\n",
    "        if self.batch % self.N == 0:\n",
    "            for n in range(len(self.model.layers)):\n",
    "                self.weights_layer[n].append(self.model.layers[n].get_weights()[0])\n",
    "        self.batch += 1\n"
   ]
  },
  {
   "cell_type": "markdown",
   "id": "1b368fde",
   "metadata": {},
   "source": [
    "# Experimenti"
   ]
  },
  {
   "cell_type": "code",
   "execution_count": null,
   "id": "1927f18e",
   "metadata": {},
   "outputs": [],
   "source": [
    "# Inicializiramo uteži\n",
    "init = initializers.GlorotUniform(seed=42)\n",
    "\n",
    "# Arhitektura nevronske mreže\n",
    "neurons = [pixels, 128, 64, 10]\n",
    "\n",
    "# Train \n",
    "W_layer, X_layer, y_layer = train_model(X_train, y_train, X_test, y_test,\n",
    "                                        neurons=neurons,\n",
    "                                        init=init,\n",
    "                                        activation='relu',\n",
    "                                        learning_rate=0.05,\n",
    "                                        epochs=70, \n",
    "                                        batch_size=100,\n",
    "                                        training_steps=200)"
   ]
  },
  {
   "cell_type": "markdown",
   "id": "941a02e3",
   "metadata": {},
   "source": [
    "### Vizualizacija uteži v prostoru PCA"
   ]
  },
  {
   "cell_type": "markdown",
   "id": "3d6c9627",
   "metadata": {},
   "source": [
    "Uteži iz vsake plasti nevronske mreže smo preslikali v dvodimenzionalni prostor s pomočjo **PCA (Principal Component Analysis)**, da bi lažje razumeli njihovo porazdelitev in evolucijo skozi učenje.\n",
    "\n",
    "- **Vsaka točka predstavlja en nevron** ob določenem učnem koraku.\n",
    "- Barva točke označuje bodisi:\n",
    "  - **učni korak** (leva slika), ali\n",
    "  - **identiteto nevrona** (desna slika)."
   ]
  },
  {
   "cell_type": "code",
   "execution_count": null,
   "id": "816fb714",
   "metadata": {},
   "outputs": [],
   "source": [
    "for lay_num in range(len(X_layer)):\n",
    "    X_pca2 = PCA(n_components=2).fit_transform(X_layer[lay_num])\n",
    "    \n",
    "    plt.figure(figsize=(10, 4))\n",
    "    \n",
    "    # colored by training step\n",
    "    plt.subplot(121)\n",
    "    scatter1 = plt.scatter(X_pca2[:, 0], X_pca2[:, 1], s=3, c=y_layer[lay_num][:, 1],\n",
    "                           cmap=plt.cm.get_cmap('viridis'), alpha=0.8)\n",
    "    plt.title(f'Plast {lay_num} (obarvano po učnem koraku)')\n",
    "    plt.colorbar(scatter1, label=\"Učni korak\")\n",
    "\n",
    "    # colored by neuron ID\n",
    "    plt.subplot(122)\n",
    "    scatter2 = plt.scatter(X_pca2[:, 0], X_pca2[:, 1], s=4, c=y_layer[lay_num][:, 0],\n",
    "                           cmap=plt.cm.get_cmap('jet'), alpha=0.8)\n",
    "    plt.title(f'Plast {lay_num} (obarvano po nevronu)')\n",
    "\n",
    "    # Add colorbar with neuron labels\n",
    "    cbar = plt.colorbar(scatter2)\n",
    "    cbar.set_label(\"ID nevrona\")\n",
    "\n",
    "    # Diskretne labele nevronov prikažemo samo v zadnjem koraku\n",
    "    if lay_num == len(X_layer) - 1:\n",
    "        neuron_ids = np.unique(y_layer[lay_num][:, 0])\n",
    "        cbar.set_ticks(neuron_ids)\n",
    "        cbar.set_ticklabels([f\"Nevron {int(n)}\" for n in neuron_ids])\n",
    "\n",
    "    plt.tight_layout()"
   ]
  },
  {
   "cell_type": "markdown",
   "id": "64c7e219",
   "metadata": {},
   "source": [
    "### Vizualizacija uteži v prostoru UMAP"
   ]
  },
  {
   "cell_type": "code",
   "execution_count": null,
   "id": "880f99a0",
   "metadata": {},
   "outputs": [],
   "source": [
    "for lay_num in range(len(X_layer)):\n",
    "    data = X_layer[lay_num]\n",
    "    embedding = umap.UMAP(n_neighbors=15, min_dist=0.1, n_components=2).fit_transform(data)\n",
    "\n",
    "    plt.figure(figsize=(10, 4))\n",
    "\n",
    "    # colored by training step\n",
    "    plt.subplot(121)\n",
    "    scatter1 = plt.scatter(embedding[:, 0], embedding[:, 1], s=3, c=y_layer[lay_num][:, 1],\n",
    "                            cmap=plt.cm.get_cmap('viridis'), alpha=0.8)\n",
    "    plt.title(f'Plast {lay_num} (obarvano po učnem koraku)')\n",
    "    plt.colorbar(scatter1, label=\"Učni korak\")\n",
    "\n",
    "    # colored by neuron ID\n",
    "    plt.subplot(122)\n",
    "    scatter2 = plt.scatter(embedding[:, 0], embedding[:, 1], s=4, c=y_layer[lay_num][:, 0],\n",
    "                            cmap=plt.cm.get_cmap('jet'), alpha=0.8)\n",
    "    plt.title(f'Plast {lay_num} (obarvano po nevronu)')\n",
    "\n",
    "    # Add colorbar with neuron labels\n",
    "    cbar = plt.colorbar(scatter2)\n",
    "    cbar.set_label(\"ID nevrona\")\n",
    "\n",
    "    # Diskretne labele nevronov prikažemo samo v zadnjem koraku\n",
    "    if lay_num == len(X_layer) - 1:\n",
    "        neuron_ids = np.unique(y_layer[lay_num][:, 0])\n",
    "        cbar.set_ticks(neuron_ids)\n",
    "        cbar.set_ticklabels([f\"Nevron {int(n)}\" for n in neuron_ids])\n",
    "\n",
    "    plt.tight_layout()"
   ]
  },
  {
   "cell_type": "markdown",
   "id": "70ee2145",
   "metadata": {},
   "source": [
    "### Vizualizacija uteži v prostoru t-SNE"
   ]
  },
  {
   "cell_type": "code",
   "execution_count": null,
   "id": "8e19cf98",
   "metadata": {},
   "outputs": [],
   "source": [
    "for lay_num in range(len(X_layer)):\n",
    "    data = X_layer[lay_num]\n",
    "    embedding = TSNE(n_components=2, perplexity=30, learning_rate=200, init='pca', random_state=42).fit_transform(data)\n",
    "\n",
    "    plt.figure(figsize=(10, 4))\n",
    "\n",
    "    # colored by training step\n",
    "    plt.subplot(121)\n",
    "    scatter1 = plt.scatter(embedding[:, 0], embedding[:, 1], s=3, c=y_layer[lay_num][:, 1],\n",
    "                            cmap=plt.cm.get_cmap('viridis'), alpha=0.8)\n",
    "    plt.title(f'Plast {lay_num} (obarvano po učnem koraku)')\n",
    "    plt.colorbar(scatter1, label=\"Učni korak\")\n",
    "\n",
    "    # colored by neuron ID\n",
    "    plt.subplot(122)\n",
    "    scatter2 = plt.scatter(embedding[:, 0], embedding[:, 1], s=4, c=y_layer[lay_num][:, 0],\n",
    "                            cmap=plt.cm.get_cmap('jet'), alpha=0.8)\n",
    "    plt.title(f'Plast {lay_num} (obarvano po nevronu)')\n",
    "\n",
    "    # Add colorbar with neuron labels\n",
    "    cbar = plt.colorbar(scatter2)\n",
    "    cbar.set_label(\"ID nevrona\")\n",
    "\n",
    "    # Diskretne labele nevronov prikažemo samo v zadnjem koraku\n",
    "    if lay_num == len(X_layer) - 1:\n",
    "        neuron_ids = np.unique(y_layer[lay_num][:, 0])\n",
    "        cbar.set_ticks(neuron_ids)\n",
    "        cbar.set_ticklabels([f\"Nevron {int(n)}\" for n in neuron_ids])\n",
    "\n",
    "    plt.tight_layout()"
   ]
  },
  {
   "cell_type": "markdown",
   "id": "db9ea327",
   "metadata": {},
   "source": [
    "## Mapper grafi"
   ]
  },
  {
   "cell_type": "code",
   "execution_count": null,
   "id": "87be3b73",
   "metadata": {},
   "outputs": [],
   "source": [
    "def graph_km(data, \n",
    "             label, \n",
    "             path, \n",
    "             projection=PCA(3), \n",
    "             title='Title', \n",
    "             color_function='Class', \n",
    "             nr_cubes=15, \n",
    "             overlap_perc=0.1, \n",
    "             clusterer=DBSCAN(eps=0.1, min_samples=10)):\n",
    "    \n",
    "    # Initialize KeplerMapper (used for lens only)\n",
    "    mapper = km.KeplerMapper()\n",
    "\n",
    "    # Create the projection (lens)\n",
    "    lens = mapper.fit_transform(data, projection=projection, scaler=None)\n",
    "\n",
    "    # Create the simplicial complex\n",
    "    graph = mapper.map(lens,\n",
    "                       data,\n",
    "                       cover=km.Cover(nr_cubes, overlap_perc),  \n",
    "                       clusterer=clusterer)\n",
    "    \n",
    "    # Color values function\n",
    "    if color_function == 'Class': \n",
    "        color_func = label[:,0]\n",
    "        color_func_name = \"Obarvano po nevronu\"\n",
    "    elif color_function == 'Step':\n",
    "        color_func = label[:,1]\n",
    "        color_func_name = \"Obarvano po učnem koraku\"\n",
    "\n",
    "    mapper.visualize(graph,\n",
    "                     path_html=path,\n",
    "                     title=title,\n",
    "                     color_values=color_func,\n",
    "                     color_function_name=color_func_name)\n",
    "    return graph"
   ]
  },
  {
   "cell_type": "markdown",
   "id": "306b39a0-14f6-48cd-a797-504415ffe626",
   "metadata": {},
   "source": [
    "PCA filtrirna funkcija"
   ]
  },
  {
   "cell_type": "code",
   "execution_count": null,
   "id": "ffadb9f4-6793-467f-b7c1-fa8042073a59",
   "metadata": {},
   "outputs": [],
   "source": [
    "graphs = []\n",
    "for lay_num in range(len(X_layer)):\n",
    "    proj = PCA(2)\n",
    "    graph = graph_km(X_layer[lay_num], y_layer[lay_num], \n",
    "                     projection=proj, \n",
    "                     title='Weights to layer',\n",
    "                     color_function='Class',\n",
    "                     path='output/PCA_Graph_{}.html'.format(lay_num))\n",
    "    graphs.append(graph)\n",
    "    IPython.display.IFrame('output/PCA_Graph_{}.html'.format(lay_num), 800, 600)"
   ]
  },
  {
   "cell_type": "code",
   "execution_count": null,
   "id": "93a818cf",
   "metadata": {},
   "outputs": [],
   "source": [
    "num_layers = len(graphs)\n",
    "fig, axes = plt.subplots(nrows=num_layers, ncols=1, figsize=(5, 5 * num_layers))\n",
    "\n",
    "for i, (graph, ax) in enumerate(zip(graphs, axes)):\n",
    "    # Generate plotly figure\n",
    "    fig_plotly = plotlyviz(graph, title=f\"Layer {i}\")\n",
    "    \n",
    "    # Convert to PNG image in memory\n",
    "    img_bytes = pio.to_image(fig_plotly, format=\"png\", width=600, height=600)\n",
    "    img = Image.open(io.BytesIO(img_bytes))\n",
    "    \n",
    "    # Show in Matplotlib subplot\n",
    "    ax.imshow(img)\n",
    "    ax.axis(\"off\")\n",
    "    ax.set_title(f\"Layer {i}\")\n",
    "\n",
    "plt.tight_layout(rect=[0, 0, 1, 0.97])"
   ]
  },
  {
   "cell_type": "markdown",
   "id": "57e89eff",
   "metadata": {},
   "source": [
    "UMAP filtrirna funkcija"
   ]
  },
  {
   "cell_type": "code",
   "execution_count": null,
   "id": "d831b99f-f2bd-43c4-b073-42a51f7c589c",
   "metadata": {},
   "outputs": [],
   "source": [
    "graphs = []\n",
    "for lay_num in range(len(X_layer)):\n",
    "    proj = umap.UMAP(n_neighbors=15, min_dist=0.1, n_components=2)\n",
    "\n",
    "    graph = graph_km(X_layer[lay_num], y_layer[lay_num], projection=proj,\n",
    "            title='Weights to layer',\n",
    "            color_function='Class',\n",
    "            path='output/UMAP_Graph_{}.html'.format(lay_num),\n",
    "            nr_cubes=5, \n",
    "            overlap_perc=0.1, \n",
    "            clusterer=DBSCAN(eps=0.6, min_samples=2))\n",
    "    graphs.append(graph)\n",
    "    IPython.display.IFrame('output/UMAP_Graph_{}.html'.format(lay_num), 800, 600)"
   ]
  },
  {
   "cell_type": "code",
   "execution_count": null,
   "id": "a2bfc997",
   "metadata": {},
   "outputs": [],
   "source": [
    "num_layers = len(graphs)\n",
    "fig, axes = plt.subplots(nrows=num_layers, ncols=1, figsize=(5, 5 * num_layers))\n",
    "\n",
    "for i, (graph, ax) in enumerate(zip(graphs, axes)):\n",
    "    # Generate plotly figure\n",
    "    fig_plotly = plotlyviz(graph, title=f\"Layer {i}\")\n",
    "    \n",
    "    # Convert to PNG image in memory\n",
    "    img_bytes = pio.to_image(fig_plotly, format=\"png\", width=600, height=600)\n",
    "    img = Image.open(io.BytesIO(img_bytes))\n",
    "    \n",
    "    # Show in Matplotlib subplot\n",
    "    ax.imshow(img)\n",
    "    ax.axis(\"off\")\n",
    "    ax.set_title(f\"Layer {i}\")\n",
    "\n",
    "plt.tight_layout(rect=[0, 0, 1, 0.97])"
   ]
  },
  {
   "cell_type": "markdown",
   "id": "def07f24-b8ac-4a13-b888-0e47897aee2a",
   "metadata": {},
   "source": [
    "TSNE filtrirna funkcija"
   ]
  },
  {
   "cell_type": "code",
   "execution_count": null,
   "id": "559495c2-7455-4c9e-ad32-4e312859d6b3",
   "metadata": {},
   "outputs": [],
   "source": [
    "graphs = []\n",
    "\n",
    "for lay_num in range(len(X_layer)):\n",
    "    proj = TSNE(n_components=2)\n",
    "    graph = graph_km(X_layer[lay_num], y_layer[lay_num], \n",
    "                     projection=proj, \n",
    "                     title='Weights to layer',\n",
    "                     color_function='Class',\n",
    "                     path='output/TSNE_Graph_{}.html'.format(lay_num))\n",
    "    graphs.append(graph)\n",
    "    IPython.display.IFrame('TSNE_Graph_{}.html'.format(lay_num), 800, 600)"
   ]
  },
  {
   "cell_type": "code",
   "execution_count": null,
   "id": "e37b377a",
   "metadata": {},
   "outputs": [],
   "source": [
    "num_layers = len(graphs)\n",
    "fig, axes = plt.subplots(nrows=num_layers, ncols=1, figsize=(5, 5 * num_layers))\n",
    "\n",
    "for i, (graph, ax) in enumerate(zip(graphs, axes)):\n",
    "    # Generate plotly figure\n",
    "    fig_plotly = plotlyviz(graph, title=f\"Layer {i}\")\n",
    "    \n",
    "    # Convert to PNG image in memory\n",
    "    img_bytes = pio.to_image(fig_plotly, format=\"png\", width=600, height=600)\n",
    "    img = Image.open(io.BytesIO(img_bytes))\n",
    "    \n",
    "    # Show in Matplotlib subplot\n",
    "    ax.imshow(img)\n",
    "    ax.axis(\"off\")\n",
    "    ax.set_title(f\"Layer {i}\")\n",
    "\n",
    "plt.tight_layout(rect=[0, 0, 1, 0.97])"
   ]
  },
  {
   "cell_type": "markdown",
   "id": "d6b43c14",
   "metadata": {},
   "source": [
    "## Vztrajna homologija"
   ]
  },
  {
   "cell_type": "code",
   "execution_count": null,
   "id": "0f3be3d4",
   "metadata": {},
   "outputs": [],
   "source": [
    "X_reduced = {}\n",
    "for lay_num in range(len(X_layer)):\n",
    "    reducer = umap.UMAP(n_components=20, random_state=42)\n",
    "    X_reduced[lay_num] = reducer.fit_transform(X_layer[lay_num])"
   ]
  },
  {
   "cell_type": "code",
   "execution_count": null,
   "id": "12efda73",
   "metadata": {},
   "outputs": [],
   "source": [
    "for lay_num in range(len(X_layer)):\n",
    "    X = X_reduced[lay_num]\n",
    "\n",
    "    # Ustvari Ripsov kompleks\n",
    "    rips_complex = gd.RipsComplex(points=X, max_edge_length=2.0)\n",
    "    simplex_tree = rips_complex.create_simplex_tree(max_dimension=2)\n",
    "    \n",
    "    # Izračunaj perzistenco\n",
    "    diag = simplex_tree.persistence()\n",
    "    \n",
    "    # Izloči le dimenziji 0 in 1\n",
    "    diag_filtered = [pair[1] for pair in diag if pair[0] in [0, 1]]\n",
    "    diag_array = np.array(diag_filtered)\n",
    "\n",
    "    fig, axs = plt.subplots(1, 2, figsize=(10, 4))\n",
    "    fig.suptitle(f'Plast {lay_num} - Topološki prikazi', fontsize=14)\n",
    "    \n",
    "    # Črtni diagram\n",
    "    gd.plot_persistence_barcode(diag, axes=axs[0])\n",
    "    axs[0].set_title(\"Črtni diagram (barcode)\")\n",
    "    \n",
    "    # Točkovni diagram\n",
    "    gd.plot_persistence_diagram(diag, axes=axs[1])\n",
    "    axs[1].set_title(\"Točkovni diagram\")\n",
    "    \n",
    "    plt.tight_layout()\n",
    "    plt.subplots_adjust(top=0.85)"
   ]
  }
 ],
 "metadata": {
  "kernelspec": {
   "display_name": "topo-learning",
   "language": "python",
   "name": "python3"
  },
  "language_info": {
   "codemirror_mode": {
    "name": "ipython",
    "version": 3
   },
   "file_extension": ".py",
   "mimetype": "text/x-python",
   "name": "python",
   "nbconvert_exporter": "python",
   "pygments_lexer": "ipython3",
   "version": "3.10.17"
  }
 },
 "nbformat": 4,
 "nbformat_minor": 5
}
