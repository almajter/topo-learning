{
 "cells": [
  {
   "cell_type": "markdown",
   "id": "6ebd068d",
   "metadata": {},
   "source": [
    "# Imports:"
   ]
  },
  {
   "cell_type": "code",
   "execution_count": null,
   "id": "fffb7288",
   "metadata": {},
   "outputs": [],
   "source": [
    "import numpy as np\n",
    "import matplotlib.pyplot as plt\n",
    "import IPython\n",
    "from keras.datasets import mnist\n",
    "from keras.utils import to_categorical\n",
    "from keras.models import Sequential\n",
    "from keras.layers import Dense\n",
    "from keras import initializers, optimizers\n",
    "from keras.callbacks import Callback\n",
    "import kmapper as km\n",
    "from sklearn.cluster import DBSCAN\n",
    "from sklearn.decomposition import PCA\n",
    "from sklearn.manifold import TSNE\n",
    "from gtda.homology import VietorisRipsPersistence\n",
    "from gtda.plotting import plot_diagram\n",
    "import gudhi as gd"
   ]
  },
  {
   "cell_type": "markdown",
   "id": "147f01af",
   "metadata": {},
   "source": [
    "# Data"
   ]
  },
  {
   "cell_type": "markdown",
   "id": "c3878ce8",
   "metadata": {},
   "source": [
    "### MNIST podatkovni set  \n",
    "- Vsebuje slike ročno napisanih številk velikosti **28×28 pik**  \n",
    "- Za ta eksperiment smo podatke **filtrirali tako, da vključujejo le števki 3 in 5**"
   ]
  },
  {
   "cell_type": "code",
   "execution_count": null,
   "id": "7efec540",
   "metadata": {},
   "outputs": [],
   "source": [
    "# Naložimo podatkovni set\n",
    "(X_train, y_train), (X_test, y_test) = mnist.load_data()\n",
    "\n",
    "# Pomožna funkcija za filtriranje\n",
    "def filter_digits(X, y, digits=(3, 5)):\n",
    "    mask = np.isin(y, digits)\n",
    "    return X[mask], y[mask]\n",
    "\n",
    "# Filtriranje podatkov\n",
    "X_train, y_train = filter_digits(X_train, y_train, digits=(3, 5))\n",
    "X_test, y_test = filter_digits(X_test, y_test, digits=(3, 5))\n",
    "\n",
    "# Primeri podatkov\n",
    "fig = plt.figure(figsize=(15, 3))\n",
    "rows, columns = 1, 5\n",
    "\n",
    "# Izbremo 5 naključnih slik\n",
    "random_indices = np.random.choice(len(X_train), size=5, replace=False)\n",
    "\n",
    "for i, idx in enumerate(random_indices, 1):\n",
    "    fig.add_subplot(rows, columns, i)\n",
    "    img = X_train[idx]\n",
    "\n",
    "    plt.imshow(img, cmap='gray')\n",
    "    plt.title(f'Oznaka = {y_train[idx]}')\n",
    "    plt.axis('off')\n",
    "\n",
    "plt.tight_layout()"
   ]
  },
  {
   "cell_type": "markdown",
   "id": "75548988",
   "metadata": {},
   "source": [
    "# Preprocessing"
   ]
  },
  {
   "cell_type": "code",
   "execution_count": null,
   "id": "8997c5b5",
   "metadata": {},
   "outputs": [],
   "source": [
    "# Normalizacija\n",
    "X_train, X_test = X_train / 255.0, X_test / 255.0\n",
    "\n",
    "# Pretvorba slik v vektorje pixlov\n",
    "pixels = np.prod(X_train.shape[1:])\n",
    "X_train = X_train.reshape(X_train.shape[0], pixels).astype('float32')\n",
    "X_test = X_test.reshape(X_test.shape[0], pixels).astype('float32')\n",
    "print('Train shape: {}\\nTest shape: {}'.format(X_train.shape, X_test.shape))\n",
    "\n",
    "# Ponovna označitev: 3 → 0, 5 → 1\n",
    "y_train = (y_train == 5).astype(int)\n",
    "y_test = (y_test == 5).astype(int)\n",
    "\n",
    "# Kodiranje oznak v one-hot vektorje\n",
    "y_train = to_categorical(y_train, num_classes=2)\n",
    "y_test = to_categorical(y_test, num_classes=2)"
   ]
  },
  {
   "cell_type": "markdown",
   "id": "c051593a",
   "metadata": {},
   "source": [
    "# Nevronska mreža"
   ]
  },
  {
   "cell_type": "code",
   "execution_count": null,
   "id": "59cb0b2b",
   "metadata": {},
   "outputs": [],
   "source": [
    "def train_model(X_train, \n",
    "                y_train, \n",
    "                X_test, \n",
    "                y_test,\n",
    "                neurons,\n",
    "                init=initializers.RandomNormal(mean=0.0, stddev=0.01, seed=42),\n",
    "                activation='sigmoid', \n",
    "                l1=0.0, \n",
    "                l2=0.0, \n",
    "                loss='categorical_crossentropy', \n",
    "                learning_rate=0.01,\n",
    "                epochs=5, \n",
    "                batch_size=100, \n",
    "                training_steps=500):\n",
    "    \n",
    "    activ = [activation]*(len(neurons)-2)+['softmax']\n",
    "\n",
    "    model = Sequential()\n",
    "    for n in range(1, len(neurons)):\n",
    "        model.add(Dense(neurons[n],\n",
    "                    input_dim=neurons[n-1], \n",
    "                    kernel_initializer=init,\n",
    "                    use_bias=False,\n",
    "                    activation=activ[n-1]))\n",
    "\n",
    "    model.compile(loss='categorical_crossentropy',\n",
    "                  optimizer=optimizers.SGD(learning_rate=learning_rate, momentum=0.0, decay=0.0, nesterov=False),\n",
    "                  metrics=['accuracy'])\n",
    "\n",
    "    # Train model\n",
    "    training_steps = training_steps    # Desired number of training steps (approximate)\n",
    "    N_ws = round((len(X_train) * epochs) / (batch_size * training_steps))\n",
    "    WSaver = SaveWeights(N_ws)  # not SaveWeights(model, N_ws)\n",
    "\n",
    "\n",
    "    calback_list = [WSaver]\n",
    "    history = model.fit(X_train, y_train, validation_data=(X_test, y_test), \n",
    "                        epochs=epochs, batch_size=batch_size, callbacks=calback_list, verbose=2)\n",
    "    scores = model.evaluate(X_test, y_test, verbose=0)\n",
    "\n",
    "    W_layer = {}\n",
    "    for n in range(len(model.layers)):\n",
    "        W_layer[n] = WSaver.weights_layer[n]\n",
    "    steps = len(W_layer[0])\n",
    "    # Lists of vectors of weights for each neuron for each training step\n",
    "    X_layer = {}\n",
    "    for n in range(len(model.layers)):\n",
    "        X_layer[n] = np.squeeze([W_layer[n][i][:, [j]] for i in range(steps) for j in range(neurons[n+1])])\n",
    "    # Labels = [neuron number, training step]\n",
    "    y_layer = {}\n",
    "    for n in range(len(model.layers)):\n",
    "        y_layer[n] = np.array([[j, i] for i in range(steps) for j in range(neurons[n+1])])\n",
    "    # Number of weight matrices saved = 1 + (60000 * epochs) / (batch_size * N_ws)\n",
    "    print('Training steps: {}'.format(steps))\n",
    "\n",
    "    # Plot training and validation accuracy (and loss)\n",
    "    plt.figure(figsize=(15, 4))\n",
    "    plt.plot(history.history['accuracy'])\n",
    "    plt.plot(history.history['val_accuracy'])\n",
    "    plt.title('Model accuracy')\n",
    "    plt.ylabel('Accuracy')\n",
    "    plt.xlabel('Epoch')\n",
    "    plt.legend(['Train', 'Test'], loc='upper left')\n",
    "    plt.tight_layout()\n",
    "    plt.show()\n",
    "    \n",
    "    return W_layer, X_layer, y_layer\n",
    "\n",
    "# Callback function to save weights after each N mini-batches\n",
    "\n",
    "class SaveWeights(Callback):\n",
    "    def __init__(self, N):\n",
    "        super().__init__()\n",
    "        self.N = N\n",
    "        self.batch = 0\n",
    "        self.weights_layer = {}\n",
    "\n",
    "    def set_model(self, model):\n",
    "        super().set_model(model)  # ✅ This sets the read-only 'model' attribute\n",
    "\n",
    "    def on_train_begin(self, logs=None):\n",
    "        for n in range(len(self.model.layers)):\n",
    "            self.weights_layer[n] = [self.model.layers[n].get_weights()[0]]\n",
    "\n",
    "    def on_batch_end(self, batch, logs=None):\n",
    "        if self.batch % self.N == 0:\n",
    "            for n in range(len(self.model.layers)):\n",
    "                self.weights_layer[n].append(self.model.layers[n].get_weights()[0])\n",
    "        self.batch += 1\n"
   ]
  },
  {
   "cell_type": "markdown",
   "id": "1b368fde",
   "metadata": {},
   "source": [
    "# Testiranje"
   ]
  },
  {
   "cell_type": "code",
   "execution_count": null,
   "id": "1927f18e",
   "metadata": {},
   "outputs": [],
   "source": [
    "# Inicializiramo uteži\n",
    "init = initializers.GlorotUniform(seed=42)\n",
    "\n",
    "# Arhitektura nevronske mreže\n",
    "neurons = [pixels, 100, 100, 2]\n",
    "\n",
    "# Train \n",
    "W_layer, X_layer, y_layer = train_model(X_train, y_train, X_test, y_test,\n",
    "                                        neurons=neurons,\n",
    "                                        init=init,\n",
    "                                        activation='sigmoid',\n",
    "                                        loss='categorical_crossentropy',\n",
    "                                        l1=0.0, l2=0.0, \n",
    "                                        learning_rate=0.05,\n",
    "                                        epochs=70, \n",
    "                                        batch_size=100,\n",
    "                                        training_steps=200)"
   ]
  },
  {
   "cell_type": "markdown",
   "id": "941a02e3",
   "metadata": {},
   "source": [
    "### Vizualizacija uteži v prostoru PCA"
   ]
  },
  {
   "cell_type": "markdown",
   "id": "3d6c9627",
   "metadata": {},
   "source": [
    "Uteži iz vsake plasti nevronske mreže smo preslikali v dvodimenzionalni prostor s pomočjo **PCA (Principal Component Analysis)**, da bi lažje razumeli njihovo porazdelitev in evolucijo skozi učenje.\n",
    "\n",
    "- **Vsaka točka predstavlja en nevron** ob določenem učnem koraku.\n",
    "- Barva točke označuje bodisi:\n",
    "  - **učni korak** (leva slika), ali\n",
    "  - **identiteto nevrona** (desna slika).\n",
    "\n",
    "#### V zadnjem sloju:\n",
    "- **Nevron 0** predstavlja slike števila **3**\n",
    "- **Nevron 1** predstavlja slike števila **5**\n"
   ]
  },
  {
   "cell_type": "code",
   "execution_count": null,
   "id": "816fb714",
   "metadata": {},
   "outputs": [],
   "source": [
    "for lay_num in range(len(X_layer)):\n",
    "    X_pca2 = PCA(n_components=2).fit_transform(X_layer[lay_num])\n",
    "    \n",
    "    plt.figure(figsize=(10, 4))\n",
    "    \n",
    "    # colored by training step\n",
    "    plt.subplot(121)\n",
    "    scatter1 = plt.scatter(X_pca2[:, 0], X_pca2[:, 1], s=3, c=y_layer[lay_num][:, 1],\n",
    "                           cmap=plt.cm.get_cmap('viridis'), alpha=0.8)\n",
    "    plt.title(f'Plast {lay_num} (obarvano po učnem koraku)')\n",
    "    plt.colorbar(scatter1, label=\"Učni korak\")\n",
    "\n",
    "    # colored by neuron ID\n",
    "    plt.subplot(122)\n",
    "    scatter2 = plt.scatter(X_pca2[:, 0], X_pca2[:, 1], s=4, c=y_layer[lay_num][:, 0],\n",
    "                           cmap=plt.cm.get_cmap('jet'), alpha=0.8)\n",
    "    plt.title(f'Plast {lay_num} (obarvano po nevronu)')\n",
    "\n",
    "    # Add colorbar with neuron labels\n",
    "    cbar = plt.colorbar(scatter2)\n",
    "    cbar.set_label(\"ID nevrona\")\n",
    "\n",
    "    # Diskretne labele nevronov prikažemo samo v zadnjem koraku\n",
    "    if lay_num == len(X_layer) - 1:\n",
    "        neuron_ids = np.unique(y_layer[lay_num][:, 0])\n",
    "        cbar.set_ticks(neuron_ids)\n",
    "        cbar.set_ticklabels([f\"Nevron {int(n)}\" for n in neuron_ids])\n",
    "\n",
    "    plt.tight_layout()\n",
    "    plt.show()\n"
   ]
  },
  {
   "cell_type": "markdown",
   "id": "db9ea327",
   "metadata": {},
   "source": [
    "### Mapper"
   ]
  },
  {
   "cell_type": "code",
   "execution_count": null,
   "id": "87be3b73",
   "metadata": {},
   "outputs": [],
   "source": [
    "def graph_km(data, \n",
    "             label, \n",
    "             path, \n",
    "             projection=PCA(3), \n",
    "             title='Title', \n",
    "             color_function='Step', \n",
    "             nr_cubes=45, \n",
    "             overlap_perc=0.09, \n",
    "             clusterer=DBSCAN(eps=0.3, min_samples=15)):\n",
    "    \n",
    "    # Initialize KeplerMapper (used for lens only)\n",
    "    mapper = km.KeplerMapper(verbose=1)\n",
    "\n",
    "    # Create the projection (lens)\n",
    "    lens = mapper.fit_transform(data, projection=projection, scaler=None)\n",
    "\n",
    "    # Create the simplicial complex\n",
    "    graph = mapper.map(lens,\n",
    "                data,\n",
    "                cover=km.Cover(nr_cubes, overlap_perc),  \n",
    "                clusterer=clusterer)\n",
    "    \n",
    "    # Color values function\n",
    "    if color_function == 'Class': \n",
    "        color_func = label[:,0]\n",
    "        color_func_name = \"Obarvano po nevronu\"\n",
    "    elif color_function == 'Step':\n",
    "        color_func = label[:,1]\n",
    "        color_func_name = \"Obarvano po učnem koraku\"\n",
    "\n",
    "\n",
    "    html = mapper.visualize(graph,\n",
    "                            path_html=path,\n",
    "                            title=title,\n",
    "                            color_values=color_func,\n",
    "                            color_function_name=color_func_name)"
   ]
  },
  {
   "cell_type": "markdown",
   "id": "a55dc622-217b-40ca-97f3-cd46dd315f8e",
   "metadata": {},
   "source": [
    "Brez zmanjševanja dimenzij"
   ]
  },
  {
   "cell_type": "markdown",
   "id": "306b39a0-14f6-48cd-a797-504415ffe626",
   "metadata": {},
   "source": [
    "PCA"
   ]
  },
  {
   "cell_type": "code",
   "execution_count": null,
   "id": "ffadb9f4-6793-467f-b7c1-fa8042073a59",
   "metadata": {},
   "outputs": [],
   "source": [
    "lay_num = 0\n",
    "proj = PCA(2)\n",
    "graph_km(X_layer[lay_num], y_layer[lay_num], \n",
    "         projection=proj, \n",
    "         title='Weights to layer',\n",
    "         path='output/PCA_Graph_{}.html'.format(lay_num))\n",
    "IPython.display.IFrame('output/PCA_Graph_{}.html'.format(lay_num), 800, 600)"
   ]
  },
  {
   "cell_type": "code",
   "execution_count": null,
   "id": "ad75e681-c332-4a24-bbb1-25b68ac551d9",
   "metadata": {},
   "outputs": [],
   "source": [
    "lay_num = 1\n",
    "proj = PCA(2)\n",
    "graph_km(X_layer[lay_num], y_layer[lay_num], \n",
    "         projection=proj, \n",
    "         title='Weights to layer',\n",
    "         path='output/PCA_Graph_{}.html'.format(lay_num))\n",
    "IPython.display.IFrame('PCA_Graph_{}.html'.format(lay_num), 800, 600)"
   ]
  },
  {
   "cell_type": "code",
   "execution_count": null,
   "id": "d831b99f-f2bd-43c4-b073-42a51f7c589c",
   "metadata": {},
   "outputs": [],
   "source": [
    "lay_num = 2\n",
    "proj = PCA(2)\n",
    "graph_km(X_layer[lay_num], y_layer[lay_num], \n",
    "         projection=proj, \n",
    "         title='Weights to layer',\n",
    "         path='output/PCA_Graph_{}.html'.format(lay_num))\n",
    "IPython.display.IFrame('output/PCA_Graph_{}.html'.format(lay_num), 800, 600)"
   ]
  },
  {
   "cell_type": "markdown",
   "id": "def07f24-b8ac-4a13-b888-0e47897aee2a",
   "metadata": {},
   "source": [
    "TSNE"
   ]
  },
  {
   "cell_type": "code",
   "execution_count": null,
   "id": "559495c2-7455-4c9e-ad32-4e312859d6b3",
   "metadata": {},
   "outputs": [],
   "source": [
    "lay_num = 0\n",
    "proj = TSNE(n_components=2)\n",
    "graph_km(X_layer[lay_num], y_layer[lay_num], \n",
    "         projection=proj, \n",
    "         title='Weights to layer',\n",
    "         path='output/TSNE_Graph_{}.html'.format(lay_num))\n",
    "IPython.display.IFrame('TSNE_Graph_{}.html'.format(lay_num), 800, 600)"
   ]
  },
  {
   "cell_type": "code",
   "execution_count": null,
   "id": "65d85c52-ce7c-48fd-92dd-17cdf2ed4690",
   "metadata": {},
   "outputs": [],
   "source": [
    "lay_num = 1\n",
    "proj = TSNE(n_components=2)\n",
    "graph_km(X_layer[lay_num], y_layer[lay_num], \n",
    "         projection=proj, \n",
    "         title='Weights to layer',\n",
    "         path='output/TSNE_Graph_{}.html'.format(lay_num))\n",
    "IPython.display.IFrame('TSNE_Graph_{}.html'.format(lay_num), 800, 600)"
   ]
  },
  {
   "cell_type": "code",
   "execution_count": null,
   "id": "419bf651-1cb7-4523-b8cc-e19455b6ea21",
   "metadata": {},
   "outputs": [],
   "source": [
    "lay_num = 2\n",
    "proj = TSNE(n_components=2)\n",
    "graph_km(X_layer[lay_num], y_layer[lay_num], \n",
    "         projection=proj, \n",
    "         title='Weights to layer',\n",
    "         path='output/TSNE_Graph_{}.html'.format(lay_num),\n",
    "         clusterer=DBSCAN(eps=1.0, min_samples=2))\n",
    "IPython.display.IFrame('TSNE_Graph_{}.html'.format(lay_num), 800, 600)"
   ]
  },
  {
   "cell_type": "markdown",
   "id": "762e6776-db09-484e-be40-7f5106ffa24f",
   "metadata": {},
   "source": [
    "L2 norm"
   ]
  },
  {
   "cell_type": "code",
   "execution_count": null,
   "id": "8a3079d5-2c81-4a4c-acd1-07ff9324201b",
   "metadata": {},
   "outputs": [],
   "source": [
    "lay_num = 0\n",
    "proj = 'l2norm'\n",
    "graph_km(X_layer[lay_num], y_layer[lay_num], \n",
    "         projection=proj, \n",
    "         title='Weights to layer',\n",
    "         path='output/L2_Graph_{}.html'.format(lay_num))\n",
    "IPython.display.IFrame('L2_Graph_{}.html'.format(lay_num), 800, 600)"
   ]
  },
  {
   "cell_type": "code",
   "execution_count": null,
   "id": "b561c4be-ecb8-42ee-bec9-8ceba32c9b59",
   "metadata": {},
   "outputs": [],
   "source": [
    "lay_num = 1\n",
    "proj = 'l2norm'\n",
    "graph_km(X_layer[lay_num], y_layer[lay_num], \n",
    "         projection=proj, \n",
    "         title='Weights to layer',\n",
    "         path='output/L2_Graph_{}.html'.format(lay_num))\n",
    "IPython.display.IFrame('L2_Graph_{}.html'.format(lay_num), 800, 600)"
   ]
  },
  {
   "cell_type": "code",
   "execution_count": null,
   "id": "2bc99d33-349f-4e6a-97f5-1096be6963e7",
   "metadata": {},
   "outputs": [],
   "source": [
    "lay_num = 2\n",
    "proj = 'l2norm'\n",
    "graph_km(X_layer[lay_num], y_layer[lay_num], \n",
    "         projection=proj, \n",
    "         title='Weights to layer',\n",
    "         path='output/L2_Graph_{}.html'.format(lay_num))\n",
    "IPython.display.IFrame('L2_Graph_{}.html'.format(lay_num), 800, 600)"
   ]
  },
  {
   "cell_type": "code",
   "execution_count": null,
   "id": "080c0da2",
   "metadata": {},
   "outputs": [],
   "source": [
    "lay_num = 2\n",
    "X = X_layer[lay_num] \n",
    "\n",
    "# Izračunamo vztrajno homologijo\n",
    "vr = VietorisRipsPersistence(homology_dimensions=[0, 1])  # H0, H1\n",
    "diagrams = vr.fit_transform([X])\n",
    "\n",
    "plot_diagram(diagrams[0])"
   ]
  },
  {
   "cell_type": "code",
   "execution_count": null,
   "id": "cebe9a1b",
   "metadata": {},
   "outputs": [],
   "source": [
    "X = X_layer[2]\n",
    "\n",
    "# Create the RipsComplex\n",
    "rips_complex = gd.RipsComplex(points=X, max_edge_length=2.0)\n",
    "\n",
    "# Create a simplex tree (filtration)\n",
    "simplex_tree = rips_complex.create_simplex_tree(max_dimension=2)\n",
    "\n",
    "# Compute persistence\n",
    "diag = simplex_tree.persistence(homology_coeff_field=2, min_persistence=0.01)"
   ]
  },
  {
   "cell_type": "code",
   "execution_count": null,
   "id": "3a54b353",
   "metadata": {},
   "outputs": [],
   "source": [
    "# Plot persistence diagram\n",
    "gd.plot_persistence_diagram(diag)\n",
    "plt.title(\"Persistence Diagram\")\n",
    "\n",
    "# Plot barcode\n",
    "gd.plot_persistence_barcode(diag)\n",
    "plt.title(\"Persistence Barcode\")"
   ]
  }
 ],
 "metadata": {
  "kernelspec": {
   "display_name": ".venv",
   "language": "python",
   "name": "python3"
  },
  "language_info": {
   "codemirror_mode": {
    "name": "ipython",
    "version": 3
   },
   "file_extension": ".py",
   "mimetype": "text/x-python",
   "name": "python",
   "nbconvert_exporter": "python",
   "pygments_lexer": "ipython3",
   "version": "3.10.17"
  }
 },
 "nbformat": 4,
 "nbformat_minor": 5
}
