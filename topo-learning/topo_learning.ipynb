{
 "cells": [
  {
   "cell_type": "markdown",
   "id": "6ebd068d",
   "metadata": {},
   "source": [
    "# Imports:"
   ]
  },
  {
   "cell_type": "code",
   "execution_count": 1,
   "id": "fffb7288",
   "metadata": {},
   "outputs": [],
   "source": [
    "import numpy as np\n",
    "import matplotlib.pyplot as plt\n",
    "import IPython\n",
    "from keras.datasets import mnist\n",
    "from keras.utils import to_categorical\n",
    "from keras.models import Sequential\n",
    "from keras.layers import Dense\n",
    "from keras import initializers, optimizers\n",
    "from keras.callbacks import Callback\n",
    "import kmapper as km\n",
    "from sklearn.cluster import DBSCAN\n",
    "from sklearn.decomposition import PCA\n",
    "from sklearn.manifold import TSNE\n",
    "from gtda.homology import VietorisRipsPersistence\n",
    "from gtda.plotting import plot_diagram\n",
    "import gudhi as gd"
   ]
  },
  {
   "cell_type": "markdown",
   "id": "147f01af",
   "metadata": {},
   "source": [
    "# Data"
   ]
  },
  {
   "cell_type": "markdown",
   "id": "c3878ce8",
   "metadata": {},
   "source": [
    "### MNIST podatkovni set  \n",
    "- Vsebuje slike ročno napisanih številk velikosti **28×28 pik**  \n",
    "- Za ta eksperiment smo podatke **filtrirali tako, da vključujejo le števki 3 in 5**"
   ]
  },
  {
   "cell_type": "code",
   "execution_count": 2,
   "id": "7efec540",
   "metadata": {},
   "outputs": [
    {
     "data": {
      "image/png": "[encoded data removed]",
      "text/plain": [
       "<Figure size 1500x300 with 5 Axes>"
      ]
     },
     "metadata": {},
     "output_type": "display_data"
    }
   ],
   "source": [
    "# Naložimo podatkovni set\n",
    "(X_train, y_train), (X_test, y_test) = mnist.load_data()\n",
    "\n",
    "# Pomožna funkcija za filtriranje\n",
    "def filter_digits(X, y, digits=(3, 5)):\n",
    "    mask = np.isin(y, digits)\n",
    "    return X[mask], y[mask]\n",
    "\n",
    "# Filtriranje podatkov\n",
    "X_train, y_train = filter_digits(X_train, y_train, digits=(3, 5))\n",
    "X_test, y_test = filter_digits(X_test, y_test, digits=(3, 5))\n",
    "\n",
    "# Primeri podatkov\n",
    "fig = plt.figure(figsize=(15, 3))\n",
    "rows, columns = 1, 5\n",
    "\n",
    "# Izbremo 5 naključnih slik\n",
    "random_indices = np.random.choice(len(X_train), size=5, replace=False)\n",
    "\n",
    "for i, idx in enumerate(random_indices, 1):\n",
    "    fig.add_subplot(rows, columns, i)\n",
    "    img = X_train[idx]\n",
    "\n",
    "    plt.imshow(img, cmap='gray')\n",
    "    plt.title(f'Oznaka = {y_train[idx]}')\n",
    "    plt.axis('off')\n",
    "\n",
    "plt.tight_layout()"
   ]
  },
  {
   "cell_type": "markdown",
   "id": "75548988",
   "metadata": {},
   "source": [
    "# Preprocessing"
   ]
  },
  {
   "cell_type": "code",
   "execution_count": 3,
   "id": "8997c5b5",
   "metadata": {},
   "outputs": [
    {
     "name": "stdout",
     "output_type": "stream",
     "text": [
      "Train shape: (11552, 784)\n",
      "Test shape: (1902, 784)\n"
     ]
    }
   ],
   "source": [
    "# Normalizacija\n",
    "X_train, X_test = X_train / 255.0, X_test / 255.0\n",
    "\n",
    "# Pretvorba slik v vektorje pixlov\n",
    "pixels = np.prod(X_train.shape[1:])\n",
    "X_train = X_train.reshape(X_train.shape[0], pixels).astype('float32')\n",
    "X_test = X_test.reshape(X_test.shape[0], pixels).astype('float32')\n",
    "print('Train shape: {}\\nTest shape: {}'.format(X_train.shape, X_test.shape))\n",
    "\n",
    "# Ponovna označitev: 3 → 0, 5 → 1\n",
    "y_train = (y_train == 5).astype(int)\n",
    "y_test = (y_test == 5).astype(int)\n",
    "\n",
    "# Kodiranje oznak v one-hot vektorje\n",
    "y_train = to_categorical(y_train, num_classes=2)\n",
    "y_test = to_categorical(y_test, num_classes=2)"
   ]
  },
  {
   "cell_type": "markdown",
   "id": "c051593a",
   "metadata": {},
   "source": [
    "# Nevronska mreža"
   ]
  },
  {
   "cell_type": "code",
   "execution_count": 4,
   "id": "59cb0b2b",
   "metadata": {},
   "outputs": [],
   "source": [
    "def train_model(X_train, \n",
    "                y_train, \n",
    "                X_test, \n",
    "                y_test,\n",
    "                neurons,\n",
    "                init=initializers.RandomNormal(mean=0.0, stddev=0.01, seed=42),\n",
    "                activation='sigmoid', \n",
    "                l1=0.0, \n",
    "                l2=0.0, \n",
    "                loss='categorical_crossentropy', \n",
    "                learning_rate=0.01,\n",
    "                epochs=5, \n",
    "                batch_size=100, \n",
    "                training_steps=500):\n",
    "    \n",
    "    activ = [activation]*(len(neurons)-2)+['softmax']\n",
    "\n",
    "    model = Sequential()\n",
    "    for n in range(1, len(neurons)):\n",
    "        model.add(Dense(neurons[n],\n",
    "                    input_dim=neurons[n-1], \n",
    "                    kernel_initializer=init,\n",
    "                    use_bias=False,\n",
    "                    activation=activ[n-1]))\n",
    "\n",
    "    model.compile(loss='categorical_crossentropy',\n",
    "                  optimizer=optimizers.SGD(learning_rate=learning_rate, momentum=0.0, decay=0.0, nesterov=False),\n",
    "                  metrics=['accuracy'])\n",
    "\n",
    "    # Train model\n",
    "    training_steps = training_steps    # Desired number of training steps (approximate)\n",
    "    N_ws = round((len(X_train) * epochs) / (batch_size * training_steps))\n",
    "    WSaver = SaveWeights(N_ws)  # not SaveWeights(model, N_ws)\n",
    "\n",
    "\n",
    "    calback_list = [WSaver]\n",
    "    history = model.fit(X_train, y_train, validation_data=(X_test, y_test), \n",
    "                        epochs=epochs, batch_size=batch_size, callbacks=calback_list, verbose=2)\n",
    "    scores = model.evaluate(X_test, y_test, verbose=0)\n",
    "\n",
    "    W_layer = {}\n",
    "    for n in range(len(model.layers)):\n",
    "        W_layer[n] = WSaver.weights_layer[n]\n",
    "    steps = len(W_layer[0])\n",
    "    # Lists of vectors of weights for each neuron for each training step\n",
    "    X_layer = {}\n",
    "    for n in range(len(model.layers)):\n",
    "        X_layer[n] = np.squeeze([W_layer[n][i][:, [j]] for i in range(steps) for j in range(neurons[n+1])])\n",
    "    # Labels = [neuron number, training step]\n",
    "    y_layer = {}\n",
    "    for n in range(len(model.layers)):\n",
    "        y_layer[n] = np.array([[j, i] for i in range(steps) for j in range(neurons[n+1])])\n",
    "    # Number of weight matrices saved = 1 + (60000 * epochs) / (batch_size * N_ws)\n",
    "    print('Training steps: {}'.format(steps))\n",
    "\n",
    "    # Plot training and validation accuracy (and loss)\n",
    "    plt.figure(figsize=(15, 4))\n",
    "    plt.plot(history.history['accuracy'])\n",
    "    plt.plot(history.history['val_accuracy'])\n",
    "    plt.title('Model accuracy')\n",
    "    plt.ylabel('Accuracy')\n",
    "    plt.xlabel('Epoch')\n",
    "    plt.legend(['Train', 'Test'], loc='upper left')\n",
    "    plt.tight_layout()\n",
    "    plt.show()\n",
    "    \n",
    "    return W_layer, X_layer, y_layer\n",
    "\n",
    "# Callback function to save weights after each N mini-batches\n",
    "\n",
    "class SaveWeights(Callback):\n",
    "    def __init__(self, N):\n",
    "        super().__init__()\n",
    "        self.N = N\n",
    "        self.batch = 0\n",
    "        self.weights_layer = {}\n",
    "\n",
    "    def set_model(self, model):\n",
    "        super().set_model(model)  # ✅ This sets the read-only 'model' attribute\n",
    "\n",
    "    def on_train_begin(self, logs=None):\n",
    "        for n in range(len(self.model.layers)):\n",
    "            self.weights_layer[n] = [self.model.layers[n].get_weights()[0]]\n",
    "\n",
    "    def on_batch_end(self, batch, logs=None):\n",
    "        if self.batch % self.N == 0:\n",
    "            for n in range(len(self.model.layers)):\n",
    "                self.weights_layer[n].append(self.model.layers[n].get_weights()[0])\n",
    "        self.batch += 1\n"
   ]
  },
  {
   "cell_type": "markdown",
   "id": "1b368fde",
   "metadata": {},
   "source": [
    "# Testiranje"
   ]
  },
  {
   "cell_type": "code",
   "execution_count": 5,
   "id": "1927f18e",
   "metadata": {},
   "outputs": [
    {
     "name": "stdout",
     "output_type": "stream",
     "text": [
      "Epoch 1/70\n"
     ]
    },
    {
     "name": "stderr",
     "output_type": "stream",
     "text": [
      "/Users/majal/Razvijam/topo-learning/topo-learning/.venv/lib/python3.10/site-packages/keras/src/layers/core/dense.py:93: UserWarning: Do not pass an `input_shape`/`input_dim` argument to a layer. When using Sequential models, prefer using an `Input(shape)` object as the first layer in the model instead.\n",
      "  super().__init__(activity_regularizer=activity_regularizer, **kwargs)\n",
      "/Users/majal/Razvijam/topo-learning/topo-learning/.venv/lib/python3.10/site-packages/keras/src/optimizers/base_optimizer.py:86: UserWarning: Argument `decay` is no longer supported and will be ignored.\n",
      "  warnings.warn(\n"
     ]
    },
    {
     "name": "stdout",
     "output_type": "stream",
     "text": [
      "116/116 - 0s - 2ms/step - accuracy: 0.6409 - loss: 0.6603 - val_accuracy: 0.5852 - val_loss: 0.6157\n",
      "Epoch 2/70\n",
      "116/116 - 0s - 722us/step - accuracy: 0.8466 - loss: 0.5401 - val_accuracy: 0.8360 - val_loss: 0.4516\n",
      "Epoch 3/70\n",
      "116/116 - 0s - 708us/step - accuracy: 0.9026 - loss: 0.3676 - val_accuracy: 0.9027 - val_loss: 0.2899\n",
      "Epoch 4/70\n",
      "116/116 - 0s - 702us/step - accuracy: 0.9254 - loss: 0.2514 - val_accuracy: 0.9416 - val_loss: 0.2005\n",
      "Epoch 5/70\n",
      "116/116 - 0s - 705us/step - accuracy: 0.9346 - loss: 0.1991 - val_accuracy: 0.9474 - val_loss: 0.1629\n",
      "Epoch 6/70\n",
      "116/116 - 0s - 701us/step - accuracy: 0.9382 - loss: 0.1734 - val_accuracy: 0.9506 - val_loss: 0.1421\n",
      "Epoch 7/70\n",
      "116/116 - 0s - 723us/step - accuracy: 0.9416 - loss: 0.1581 - val_accuracy: 0.9532 - val_loss: 0.1341\n",
      "Epoch 8/70\n",
      "116/116 - 0s - 712us/step - accuracy: 0.9445 - loss: 0.1483 - val_accuracy: 0.9553 - val_loss: 0.1229\n",
      "Epoch 9/70\n",
      "116/116 - 0s - 702us/step - accuracy: 0.9465 - loss: 0.1411 - val_accuracy: 0.9564 - val_loss: 0.1164\n",
      "Epoch 10/70\n",
      "116/116 - 0s - 759us/step - accuracy: 0.9486 - loss: 0.1360 - val_accuracy: 0.9564 - val_loss: 0.1121\n",
      "Epoch 11/70\n",
      "116/116 - 0s - 708us/step - accuracy: 0.9496 - loss: 0.1315 - val_accuracy: 0.9579 - val_loss: 0.1104\n",
      "Epoch 12/70\n",
      "116/116 - 0s - 705us/step - accuracy: 0.9513 - loss: 0.1277 - val_accuracy: 0.9548 - val_loss: 0.1102\n",
      "Epoch 13/70\n",
      "116/116 - 0s - 708us/step - accuracy: 0.9530 - loss: 0.1246 - val_accuracy: 0.9574 - val_loss: 0.1045\n",
      "Epoch 14/70\n",
      "116/116 - 0s - 704us/step - accuracy: 0.9550 - loss: 0.1221 - val_accuracy: 0.9579 - val_loss: 0.1040\n",
      "Epoch 15/70\n",
      "116/116 - 0s - 698us/step - accuracy: 0.9552 - loss: 0.1202 - val_accuracy: 0.9569 - val_loss: 0.1031\n",
      "Epoch 16/70\n",
      "116/116 - 0s - 704us/step - accuracy: 0.9557 - loss: 0.1177 - val_accuracy: 0.9585 - val_loss: 0.0995\n",
      "Epoch 17/70\n",
      "116/116 - 0s - 701us/step - accuracy: 0.9563 - loss: 0.1162 - val_accuracy: 0.9579 - val_loss: 0.0989\n",
      "Epoch 18/70\n",
      "116/116 - 0s - 701us/step - accuracy: 0.9576 - loss: 0.1146 - val_accuracy: 0.9585 - val_loss: 0.0989\n",
      "Epoch 19/70\n",
      "116/116 - 0s - 730us/step - accuracy: 0.9581 - loss: 0.1130 - val_accuracy: 0.9585 - val_loss: 0.0968\n",
      "Epoch 20/70\n",
      "116/116 - 0s - 705us/step - accuracy: 0.9587 - loss: 0.1119 - val_accuracy: 0.9600 - val_loss: 0.0962\n",
      "Epoch 21/70\n",
      "116/116 - 0s - 697us/step - accuracy: 0.9580 - loss: 0.1107 - val_accuracy: 0.9590 - val_loss: 0.1010\n",
      "Epoch 22/70\n",
      "116/116 - 0s - 706us/step - accuracy: 0.9589 - loss: 0.1099 - val_accuracy: 0.9600 - val_loss: 0.0944\n",
      "Epoch 23/70\n",
      "116/116 - 0s - 708us/step - accuracy: 0.9583 - loss: 0.1088 - val_accuracy: 0.9590 - val_loss: 0.0987\n",
      "Epoch 24/70\n",
      "116/116 - 0s - 705us/step - accuracy: 0.9589 - loss: 0.1075 - val_accuracy: 0.9595 - val_loss: 0.0945\n",
      "Epoch 25/70\n",
      "116/116 - 0s - 702us/step - accuracy: 0.9603 - loss: 0.1067 - val_accuracy: 0.9595 - val_loss: 0.0946\n",
      "Epoch 26/70\n",
      "116/116 - 0s - 707us/step - accuracy: 0.9600 - loss: 0.1058 - val_accuracy: 0.9606 - val_loss: 0.0933\n",
      "Epoch 27/70\n",
      "116/116 - 0s - 697us/step - accuracy: 0.9605 - loss: 0.1047 - val_accuracy: 0.9611 - val_loss: 0.0924\n",
      "Epoch 28/70\n",
      "116/116 - 0s - 697us/step - accuracy: 0.9613 - loss: 0.1044 - val_accuracy: 0.9600 - val_loss: 0.0924\n",
      "Epoch 29/70\n",
      "116/116 - 0s - 699us/step - accuracy: 0.9610 - loss: 0.1032 - val_accuracy: 0.9600 - val_loss: 0.0916\n",
      "Epoch 30/70\n",
      "116/116 - 0s - 700us/step - accuracy: 0.9622 - loss: 0.1031 - val_accuracy: 0.9621 - val_loss: 0.0904\n",
      "Epoch 31/70\n",
      "116/116 - 0s - 695us/step - accuracy: 0.9627 - loss: 0.1017 - val_accuracy: 0.9616 - val_loss: 0.0921\n",
      "Epoch 32/70\n",
      "116/116 - 0s - 696us/step - accuracy: 0.9627 - loss: 0.1011 - val_accuracy: 0.9606 - val_loss: 0.0941\n",
      "Epoch 33/70\n",
      "116/116 - 0s - 707us/step - accuracy: 0.9640 - loss: 0.1004 - val_accuracy: 0.9611 - val_loss: 0.0898\n",
      "Epoch 34/70\n",
      "116/116 - 0s - 705us/step - accuracy: 0.9623 - loss: 0.0997 - val_accuracy: 0.9642 - val_loss: 0.0906\n",
      "Epoch 35/70\n",
      "116/116 - 0s - 705us/step - accuracy: 0.9634 - loss: 0.0987 - val_accuracy: 0.9606 - val_loss: 0.0926\n",
      "Epoch 36/70\n",
      "116/116 - 0s - 699us/step - accuracy: 0.9639 - loss: 0.0984 - val_accuracy: 0.9648 - val_loss: 0.0876\n",
      "Epoch 37/70\n",
      "116/116 - 0s - 693us/step - accuracy: 0.9642 - loss: 0.0978 - val_accuracy: 0.9653 - val_loss: 0.0869\n",
      "Epoch 38/70\n",
      "116/116 - 0s - 698us/step - accuracy: 0.9647 - loss: 0.0959 - val_accuracy: 0.9637 - val_loss: 0.0874\n",
      "Epoch 39/70\n",
      "116/116 - 0s - 695us/step - accuracy: 0.9649 - loss: 0.0959 - val_accuracy: 0.9653 - val_loss: 0.0867\n",
      "Epoch 40/70\n",
      "116/116 - 0s - 700us/step - accuracy: 0.9662 - loss: 0.0950 - val_accuracy: 0.9653 - val_loss: 0.0855\n",
      "Epoch 41/70\n",
      "116/116 - 0s - 701us/step - accuracy: 0.9662 - loss: 0.0943 - val_accuracy: 0.9637 - val_loss: 0.0848\n",
      "Epoch 42/70\n",
      "116/116 - 0s - 695us/step - accuracy: 0.9656 - loss: 0.0934 - val_accuracy: 0.9653 - val_loss: 0.0870\n",
      "Epoch 43/70\n",
      "116/116 - 0s - 698us/step - accuracy: 0.9658 - loss: 0.0932 - val_accuracy: 0.9637 - val_loss: 0.0843\n",
      "Epoch 44/70\n",
      "116/116 - 0s - 705us/step - accuracy: 0.9668 - loss: 0.0920 - val_accuracy: 0.9653 - val_loss: 0.0842\n",
      "Epoch 45/70\n",
      "116/116 - 0s - 701us/step - accuracy: 0.9672 - loss: 0.0912 - val_accuracy: 0.9658 - val_loss: 0.0833\n",
      "Epoch 46/70\n",
      "116/116 - 0s - 718us/step - accuracy: 0.9682 - loss: 0.0905 - val_accuracy: 0.9642 - val_loss: 0.0870\n",
      "Epoch 47/70\n",
      "116/116 - 0s - 699us/step - accuracy: 0.9678 - loss: 0.0901 - val_accuracy: 0.9653 - val_loss: 0.0839\n",
      "Epoch 48/70\n",
      "116/116 - 0s - 705us/step - accuracy: 0.9689 - loss: 0.0888 - val_accuracy: 0.9658 - val_loss: 0.0810\n",
      "Epoch 49/70\n",
      "116/116 - 0s - 695us/step - accuracy: 0.9681 - loss: 0.0880 - val_accuracy: 0.9648 - val_loss: 0.0839\n",
      "Epoch 50/70\n",
      "116/116 - 0s - 693us/step - accuracy: 0.9683 - loss: 0.0875 - val_accuracy: 0.9664 - val_loss: 0.0824\n",
      "Epoch 51/70\n",
      "116/116 - 0s - 694us/step - accuracy: 0.9688 - loss: 0.0864 - val_accuracy: 0.9658 - val_loss: 0.0794\n",
      "Epoch 52/70\n",
      "116/116 - 0s - 691us/step - accuracy: 0.9696 - loss: 0.0852 - val_accuracy: 0.9664 - val_loss: 0.0784\n",
      "Epoch 53/70\n",
      "116/116 - 0s - 695us/step - accuracy: 0.9700 - loss: 0.0849 - val_accuracy: 0.9685 - val_loss: 0.0778\n",
      "Epoch 54/70\n",
      "116/116 - 0s - 698us/step - accuracy: 0.9692 - loss: 0.0840 - val_accuracy: 0.9664 - val_loss: 0.0771\n",
      "Epoch 55/70\n",
      "116/116 - 0s - 699us/step - accuracy: 0.9695 - loss: 0.0829 - val_accuracy: 0.9669 - val_loss: 0.0834\n",
      "Epoch 56/70\n",
      "116/116 - 0s - 696us/step - accuracy: 0.9707 - loss: 0.0822 - val_accuracy: 0.9674 - val_loss: 0.0758\n",
      "Epoch 57/70\n",
      "116/116 - 0s - 697us/step - accuracy: 0.9704 - loss: 0.0813 - val_accuracy: 0.9679 - val_loss: 0.0796\n",
      "Epoch 58/70\n",
      "116/116 - 0s - 701us/step - accuracy: 0.9707 - loss: 0.0808 - val_accuracy: 0.9679 - val_loss: 0.0759\n",
      "Epoch 59/70\n",
      "116/116 - 0s - 702us/step - accuracy: 0.9713 - loss: 0.0798 - val_accuracy: 0.9674 - val_loss: 0.0744\n",
      "Epoch 60/70\n",
      "116/116 - 0s - 934us/step - accuracy: 0.9713 - loss: 0.0788 - val_accuracy: 0.9695 - val_loss: 0.0728\n",
      "Epoch 61/70\n",
      "116/116 - 0s - 697us/step - accuracy: 0.9718 - loss: 0.0782 - val_accuracy: 0.9695 - val_loss: 0.0752\n",
      "Epoch 62/70\n",
      "116/116 - 0s - 703us/step - accuracy: 0.9713 - loss: 0.0772 - val_accuracy: 0.9690 - val_loss: 0.0715\n",
      "Epoch 63/70\n",
      "116/116 - 0s - 696us/step - accuracy: 0.9733 - loss: 0.0760 - val_accuracy: 0.9690 - val_loss: 0.0709\n",
      "Epoch 64/70\n",
      "116/116 - 0s - 704us/step - accuracy: 0.9739 - loss: 0.0753 - val_accuracy: 0.9695 - val_loss: 0.0749\n",
      "Epoch 65/70\n",
      "116/116 - 0s - 696us/step - accuracy: 0.9734 - loss: 0.0739 - val_accuracy: 0.9711 - val_loss: 0.0697\n",
      "Epoch 66/70\n",
      "116/116 - 0s - 697us/step - accuracy: 0.9738 - loss: 0.0735 - val_accuracy: 0.9711 - val_loss: 0.0741\n",
      "Epoch 67/70\n",
      "116/116 - 0s - 699us/step - accuracy: 0.9745 - loss: 0.0721 - val_accuracy: 0.9711 - val_loss: 0.0701\n",
      "Epoch 68/70\n",
      "116/116 - 0s - 702us/step - accuracy: 0.9745 - loss: 0.0716 - val_accuracy: 0.9711 - val_loss: 0.0667\n",
      "Epoch 69/70\n",
      "116/116 - 0s - 699us/step - accuracy: 0.9751 - loss: 0.0706 - val_accuracy: 0.9721 - val_loss: 0.0694\n",
      "Epoch 70/70\n",
      "116/116 - 0s - 702us/step - accuracy: 0.9748 - loss: 0.0698 - val_accuracy: 0.9716 - val_loss: 0.0648\n",
      "Training steps: 204\n"
     ]
    },
    {
     "data": {
      "image/png": "[encoded data removed]",
      "text/plain": [
       "<Figure size 1500x400 with 1 Axes>"
      ]
     },
     "metadata": {},
     "output_type": "display_data"
    }
   ],
   "source": [
    "# Inicializiramo uteži\n",
    "init = initializers.GlorotUniform(seed=42)\n",
    "\n",
    "# Arhitektura nevronske mreže\n",
    "neurons = [pixels, 100, 100, 2]\n",
    "\n",
    "# Train \n",
    "W_layer, X_layer, y_layer = train_model(X_train, y_train, X_test, y_test,\n",
    "                                        neurons=neurons,\n",
    "                                        init=init,\n",
    "                                        activation='sigmoid',\n",
    "                                        loss='categorical_crossentropy',\n",
    "                                        l1=0.0, l2=0.0, \n",
    "                                        learning_rate=0.05,\n",
    "                                        epochs=70, \n",
    "                                        batch_size=100,\n",
    "                                        training_steps=200)"
   ]
  },
  {
   "cell_type": "markdown",
   "id": "941a02e3",
   "metadata": {},
   "source": [
    "### Vizualizacija uteži v prostoru PCA"
   ]
  },
  {
   "cell_type": "markdown",
   "id": "3d6c9627",
   "metadata": {},
   "source": [
    "Uteži iz vsake plasti nevronske mreže smo preslikali v dvodimenzionalni prostor s pomočjo **PCA (Principal Component Analysis)**, da bi lažje razumeli njihovo porazdelitev in evolucijo skozi učenje.\n",
    "\n",
    "- **Vsaka točka predstavlja en nevron** ob določenem učnem koraku.\n",
    "- Barva točke označuje bodisi:\n",
    "  - **učni korak** (leva slika), ali\n",
    "  - **identiteto nevrona** (desna slika).\n",
    "\n",
    "#### V zadnjem sloju:\n",
    "- **Nevron 0** predstavlja slike števila **3**\n",
    "- **Nevron 1** predstavlja slike števila **5**\n"
   ]
  },
  {
   "cell_type": "code",
   "execution_count": 6,
   "id": "816fb714",
   "metadata": {},
   "outputs": [
    {
     "name": "stderr",
     "output_type": "stream",
     "text": [
      "/Users/majal/Razvijam/topo-learning/topo-learning/.venv/lib/python3.10/site-packages/sklearn/decomposition/_pca.py:606: RuntimeWarning: divide by zero encountered in matmul\n",
      "  C = X.T @ X\n",
      "/Users/majal/Razvijam/topo-learning/topo-learning/.venv/lib/python3.10/site-packages/sklearn/decomposition/_pca.py:606: RuntimeWarning: overflow encountered in matmul\n",
      "  C = X.T @ X\n",
      "/Users/majal/Razvijam/topo-learning/topo-learning/.venv/lib/python3.10/site-packages/sklearn/decomposition/_pca.py:606: RuntimeWarning: invalid value encountered in matmul\n",
      "  C = X.T @ X\n",
      "/Users/majal/Razvijam/topo-learning/topo-learning/.venv/lib/python3.10/site-packages/sklearn/decomposition/_base.py:148: RuntimeWarning: divide by zero encountered in matmul\n",
      "  X_transformed = X @ self.components_.T\n",
      "/Users/majal/Razvijam/topo-learning/topo-learning/.venv/lib/python3.10/site-packages/sklearn/decomposition/_base.py:148: RuntimeWarning: overflow encountered in matmul\n",
      "  X_transformed = X @ self.components_.T\n",
      "/Users/majal/Razvijam/topo-learning/topo-learning/.venv/lib/python3.10/site-packages/sklearn/decomposition/_base.py:148: RuntimeWarning: invalid value encountered in matmul\n",
      "  X_transformed = X @ self.components_.T\n",
      "/var/folders/mw/_62t3vrx42ncwgtc0tkl749m0000gn/T/ipykernel_89034/2099463660.py:9: MatplotlibDeprecationWarning: The get_cmap function was deprecated in Matplotlib 3.7 and will be removed in 3.11. Use ``matplotlib.colormaps[name]`` or ``matplotlib.colormaps.get_cmap()`` or ``pyplot.get_cmap()`` instead.\n",
      "  cmap=plt.cm.get_cmap('viridis'), alpha=0.8)\n",
      "/var/folders/mw/_62t3vrx42ncwgtc0tkl749m0000gn/T/ipykernel_89034/2099463660.py:16: MatplotlibDeprecationWarning: The get_cmap function was deprecated in Matplotlib 3.7 and will be removed in 3.11. Use ``matplotlib.colormaps[name]`` or ``matplotlib.colormaps.get_cmap()`` or ``pyplot.get_cmap()`` instead.\n",
      "  cmap=plt.cm.get_cmap('jet'), alpha=0.8)\n"
     ]
    },
    {
     "data": {
      "image/png": "[encoded data removed]",
      "text/plain": [
       "<Figure size 1000x400 with 4 Axes>"
      ]
     },
     "metadata": {},
     "output_type": "display_data"
    },
    {
     "name": "stderr",
     "output_type": "stream",
     "text": [
      "/Users/majal/Razvijam/topo-learning/topo-learning/.venv/lib/python3.10/site-packages/sklearn/decomposition/_pca.py:606: RuntimeWarning: divide by zero encountered in matmul\n",
      "  C = X.T @ X\n",
      "/Users/majal/Razvijam/topo-learning/topo-learning/.venv/lib/python3.10/site-packages/sklearn/decomposition/_pca.py:606: RuntimeWarning: overflow encountered in matmul\n",
      "  C = X.T @ X\n",
      "/Users/majal/Razvijam/topo-learning/topo-learning/.venv/lib/python3.10/site-packages/sklearn/decomposition/_pca.py:606: RuntimeWarning: invalid value encountered in matmul\n",
      "  C = X.T @ X\n",
      "/Users/majal/Razvijam/topo-learning/topo-learning/.venv/lib/python3.10/site-packages/sklearn/decomposition/_base.py:148: RuntimeWarning: divide by zero encountered in matmul\n",
      "  X_transformed = X @ self.components_.T\n",
      "/Users/majal/Razvijam/topo-learning/topo-learning/.venv/lib/python3.10/site-packages/sklearn/decomposition/_base.py:148: RuntimeWarning: overflow encountered in matmul\n",
      "  X_transformed = X @ self.components_.T\n",
      "/Users/majal/Razvijam/topo-learning/topo-learning/.venv/lib/python3.10/site-packages/sklearn/decomposition/_base.py:148: RuntimeWarning: invalid value encountered in matmul\n",
      "  X_transformed = X @ self.components_.T\n",
      "/var/folders/mw/_62t3vrx42ncwgtc0tkl749m0000gn/T/ipykernel_89034/2099463660.py:9: MatplotlibDeprecationWarning: The get_cmap function was deprecated in Matplotlib 3.7 and will be removed in 3.11. Use ``matplotlib.colormaps[name]`` or ``matplotlib.colormaps.get_cmap()`` or ``pyplot.get_cmap()`` instead.\n",
      "  cmap=plt.cm.get_cmap('viridis'), alpha=0.8)\n",
      "/var/folders/mw/_62t3vrx42ncwgtc0tkl749m0000gn/T/ipykernel_89034/2099463660.py:16: MatplotlibDeprecationWarning: The get_cmap function was deprecated in Matplotlib 3.7 and will be removed in 3.11. Use ``matplotlib.colormaps[name]`` or ``matplotlib.colormaps.get_cmap()`` or ``pyplot.get_cmap()`` instead.\n",
      "  cmap=plt.cm.get_cmap('jet'), alpha=0.8)\n"
     ]
    },
    {
     "data": {
      "image/png": "[encoded data removed]",
      "text/plain": [
       "<Figure size 1000x400 with 4 Axes>"
      ]
     },
     "metadata": {},
     "output_type": "display_data"
    },
    {
     "name": "stderr",
     "output_type": "stream",
     "text": [
      "/var/folders/mw/_62t3vrx42ncwgtc0tkl749m0000gn/T/ipykernel_89034/2099463660.py:9: MatplotlibDeprecationWarning: The get_cmap function was deprecated in Matplotlib 3.7 and will be removed in 3.11. Use ``matplotlib.colormaps[name]`` or ``matplotlib.colormaps.get_cmap()`` or ``pyplot.get_cmap()`` instead.\n",
      "  cmap=plt.cm.get_cmap('viridis'), alpha=0.8)\n",
      "/var/folders/mw/_62t3vrx42ncwgtc0tkl749m0000gn/T/ipykernel_89034/2099463660.py:16: MatplotlibDeprecationWarning: The get_cmap function was deprecated in Matplotlib 3.7 and will be removed in 3.11. Use ``matplotlib.colormaps[name]`` or ``matplotlib.colormaps.get_cmap()`` or ``pyplot.get_cmap()`` instead.\n",
      "  cmap=plt.cm.get_cmap('jet'), alpha=0.8)\n"
     ]
    },
    {
     "data": {
      "image/png": "[encoded data removed]",
      "text/plain": [
       "<Figure size 1000x400 with 4 Axes>"
      ]
     },
     "metadata": {},
     "output_type": "display_data"
    }
   ],
   "source": [
    "for lay_num in range(len(X_layer)):\n",
    "    X_pca2 = PCA(n_components=2).fit_transform(X_layer[lay_num])\n",
    "    \n",
    "    plt.figure(figsize=(10, 4))\n",
    "    \n",
    "    # colored by training step\n",
    "    plt.subplot(121)\n",
    "    scatter1 = plt.scatter(X_pca2[:, 0], X_pca2[:, 1], s=3, c=y_layer[lay_num][:, 1],\n",
    "                           cmap=plt.cm.get_cmap('viridis'), alpha=0.8)\n",
    "    plt.title(f'Plast {lay_num} (obarvano po učnem koraku)')\n",
    "    plt.colorbar(scatter1, label=\"Učni korak\")\n",
    "\n",
    "    # colored by neuron ID\n",
    "    plt.subplot(122)\n",
    "    scatter2 = plt.scatter(X_pca2[:, 0], X_pca2[:, 1], s=4, c=y_layer[lay_num][:, 0],\n",
    "                           cmap=plt.cm.get_cmap('jet'), alpha=0.8)\n",
    "    plt.title(f'Plast {lay_num} (obarvano po nevronu)')\n",
    "\n",
    "    # Add colorbar with neuron labels\n",
    "    cbar = plt.colorbar(scatter2)\n",
    "    cbar.set_label(\"ID nevrona\")\n",
    "\n",
    "    # Diskretne labele nevronov prikažemo samo v zadnjem koraku\n",
    "    if lay_num == len(X_layer) - 1:\n",
    "        neuron_ids = np.unique(y_layer[lay_num][:, 0])\n",
    "        cbar.set_ticks(neuron_ids)\n",
    "        cbar.set_ticklabels([f\"Nevron {int(n)}\" for n in neuron_ids])\n",
    "\n",
    "    plt.tight_layout()\n",
    "    plt.show()\n"
   ]
  },
  {
   "cell_type": "markdown",
   "id": "db9ea327",
   "metadata": {},
   "source": [
    "### Mapper"
   ]
  },
  {
   "cell_type": "code",
   "execution_count": 7,
   "id": "87be3b73",
   "metadata": {},
   "outputs": [],
   "source": [
    "def graph_km(data, \n",
    "             label, \n",
    "             path, \n",
    "             projection=PCA(3), \n",
    "             title='Title', \n",
    "             color_function='Step', \n",
    "             nr_cubes=45, \n",
    "             overlap_perc=0.09, \n",
    "             clusterer=DBSCAN(eps=0.3, min_samples=15)):\n",
    "    \n",
    "    # Initialize KeplerMapper (used for lens only)\n",
    "    mapper = km.KeplerMapper(verbose=1)\n",
    "\n",
    "    # Create the projection (lens)\n",
    "    lens = mapper.fit_transform(data, projection=projection, scaler=None)\n",
    "\n",
    "    # Create the simplicial complex\n",
    "    graph = mapper.map(lens,\n",
    "                data,\n",
    "                cover=km.Cover(nr_cubes, overlap_perc),  \n",
    "                clusterer=clusterer)\n",
    "    \n",
    "    # Color values function\n",
    "    if color_function == 'Class': \n",
    "        color_func = label[:,0]\n",
    "        color_func_name = \"Obarvano po nevronu\"\n",
    "    elif color_function == 'Step':\n",
    "        color_func = label[:,1]\n",
    "        color_func_name = \"Obarvano po učnem koraku\"\n",
    "\n",
    "\n",
    "    html = mapper.visualize(graph,\n",
    "                            path_html=path,\n",
    "                            title=title,\n",
    "                            color_values=color_func,\n",
    "                            color_function_name=color_func_name)"
   ]
  },
  {
   "cell_type": "markdown",
   "id": "a55dc622-217b-40ca-97f3-cd46dd315f8e",
   "metadata": {},
   "source": [
    "Brez zmanjševanja dimenzij"
   ]
  },
  {
   "cell_type": "markdown",
   "id": "306b39a0-14f6-48cd-a797-504415ffe626",
   "metadata": {},
   "source": [
    "PCA"
   ]
  },
  {
   "cell_type": "code",
   "execution_count": 8,
   "id": "ffadb9f4-6793-467f-b7c1-fa8042073a59",
   "metadata": {},
   "outputs": [
    {
     "name": "stderr",
     "output_type": "stream",
     "text": [
      "/Users/majal/Razvijam/topo-learning/topo-learning/.venv/lib/python3.10/site-packages/sklearn/decomposition/_pca.py:606: RuntimeWarning: divide by zero encountered in matmul\n",
      "  C = X.T @ X\n",
      "/Users/majal/Razvijam/topo-learning/topo-learning/.venv/lib/python3.10/site-packages/sklearn/decomposition/_pca.py:606: RuntimeWarning: overflow encountered in matmul\n",
      "  C = X.T @ X\n",
      "/Users/majal/Razvijam/topo-learning/topo-learning/.venv/lib/python3.10/site-packages/sklearn/decomposition/_pca.py:606: RuntimeWarning: invalid value encountered in matmul\n",
      "  C = X.T @ X\n",
      "/Users/majal/Razvijam/topo-learning/topo-learning/.venv/lib/python3.10/site-packages/sklearn/decomposition/_base.py:148: RuntimeWarning: divide by zero encountered in matmul\n",
      "  X_transformed = X @ self.components_.T\n",
      "/Users/majal/Razvijam/topo-learning/topo-learning/.venv/lib/python3.10/site-packages/sklearn/decomposition/_base.py:148: RuntimeWarning: overflow encountered in matmul\n",
      "  X_transformed = X @ self.components_.T\n",
      "/Users/majal/Razvijam/topo-learning/topo-learning/.venv/lib/python3.10/site-packages/sklearn/decomposition/_base.py:148: RuntimeWarning: invalid value encountered in matmul\n",
      "  X_transformed = X @ self.components_.T\n"
     ]
    },
    {
     "name": "stdout",
     "output_type": "stream",
     "text": [
      "KeplerMapper(verbose=1)\n",
      "..Composing projection pipeline of length 1:\n",
      "\tProjections: PCA(n_components=2)\n",
      "\tDistance matrices: False\n",
      "\tScalers: None\n",
      "..Projecting on data shaped (20400, 784)\n",
      "\n",
      "..Projecting data using: \n",
      "\tPCA(n_components=2)\n",
      "\n",
      "Mapping on data shaped (20400, 784) using lens shaped (20400, 2)\n",
      "\n",
      "Creating 2025 hypercubes.\n",
      "\n",
      "Created 275 edges and 346 nodes in 0:00:00.483328.\n",
      "Wrote visualization to: output/PCA_Graph_0.html\n"
     ]
    },
    {
     "data": {
      "text/html": [
       "\n",
       "        <iframe\n",
       "            width=\"800\"\n",
       "            height=\"600\"\n",
       "            src=\"output/PCA_Graph_0.html\"\n",
       "            frameborder=\"0\"\n",
       "            allowfullscreen\n",
       "            \n",
       "        ></iframe>\n",
       "        "
      ],
      "text/plain": [
       "<IPython.lib.display.IFrame at 0x17e96b730>"
      ]
     },
     "execution_count": 8,
     "metadata": {},
     "output_type": "execute_result"
    }
   ],
   "source": [
    "lay_num = 0\n",
    "proj = PCA(2)\n",
    "graph_km(X_layer[lay_num], y_layer[lay_num], \n",
    "         projection=proj, \n",
    "         title='Weights to layer',\n",
    "         path='output/PCA_Graph_{}.html'.format(lay_num))\n",
    "IPython.display.IFrame('output/PCA_Graph_{}.html'.format(lay_num), 800, 600)"
   ]
  },
  {
   "cell_type": "code",
   "execution_count": 9,
   "id": "ad75e681-c332-4a24-bbb1-25b68ac551d9",
   "metadata": {},
   "outputs": [
    {
     "name": "stdout",
     "output_type": "stream",
     "text": [
      "KeplerMapper(verbose=1)\n",
      "..Composing projection pipeline of length 1:\n",
      "\tProjections: PCA(n_components=2)\n",
      "\tDistance matrices: False\n",
      "\tScalers: None\n",
      "..Projecting on data shaped (20400, 100)\n",
      "\n",
      "..Projecting data using: \n",
      "\tPCA(n_components=2)\n",
      "\n",
      "Mapping on data shaped (20400, 100) using lens shaped (20400, 2)\n",
      "\n",
      "Creating 2025 hypercubes.\n"
     ]
    },
    {
     "name": "stderr",
     "output_type": "stream",
     "text": [
      "/Users/majal/Razvijam/topo-learning/topo-learning/.venv/lib/python3.10/site-packages/sklearn/decomposition/_pca.py:606: RuntimeWarning: divide by zero encountered in matmul\n",
      "  C = X.T @ X\n",
      "/Users/majal/Razvijam/topo-learning/topo-learning/.venv/lib/python3.10/site-packages/sklearn/decomposition/_pca.py:606: RuntimeWarning: overflow encountered in matmul\n",
      "  C = X.T @ X\n",
      "/Users/majal/Razvijam/topo-learning/topo-learning/.venv/lib/python3.10/site-packages/sklearn/decomposition/_pca.py:606: RuntimeWarning: invalid value encountered in matmul\n",
      "  C = X.T @ X\n",
      "/Users/majal/Razvijam/topo-learning/topo-learning/.venv/lib/python3.10/site-packages/sklearn/decomposition/_base.py:148: RuntimeWarning: divide by zero encountered in matmul\n",
      "  X_transformed = X @ self.components_.T\n",
      "/Users/majal/Razvijam/topo-learning/topo-learning/.venv/lib/python3.10/site-packages/sklearn/decomposition/_base.py:148: RuntimeWarning: overflow encountered in matmul\n",
      "  X_transformed = X @ self.components_.T\n",
      "/Users/majal/Razvijam/topo-learning/topo-learning/.venv/lib/python3.10/site-packages/sklearn/decomposition/_base.py:148: RuntimeWarning: invalid value encountered in matmul\n",
      "  X_transformed = X @ self.components_.T\n"
     ]
    },
    {
     "name": "stdout",
     "output_type": "stream",
     "text": [
      "\n",
      "Created 329 edges and 382 nodes in 0:00:00.349536.\n",
      "Wrote visualization to: output/PCA_Graph_1.html\n"
     ]
    },
    {
     "data": {
      "text/html": [
       "\n",
       "        <iframe\n",
       "            width=\"800\"\n",
       "            height=\"600\"\n",
       "            src=\"PCA_Graph_1.html\"\n",
       "            frameborder=\"0\"\n",
       "            allowfullscreen\n",
       "            \n",
       "        ></iframe>\n",
       "        "
      ],
      "text/plain": [
       "<IPython.lib.display.IFrame at 0x17e93b070>"
      ]
     },
     "execution_count": 9,
     "metadata": {},
     "output_type": "execute_result"
    }
   ],
   "source": [
    "lay_num = 1\n",
    "proj = PCA(2)\n",
    "graph_km(X_layer[lay_num], y_layer[lay_num], \n",
    "         projection=proj, \n",
    "         title='Weights to layer',\n",
    "         path='output/PCA_Graph_{}.html'.format(lay_num))\n",
    "IPython.display.IFrame('PCA_Graph_{}.html'.format(lay_num), 800, 600)"
   ]
  },
  {
   "cell_type": "code",
   "execution_count": 10,
   "id": "d831b99f-f2bd-43c4-b073-42a51f7c589c",
   "metadata": {},
   "outputs": [
    {
     "name": "stdout",
     "output_type": "stream",
     "text": [
      "KeplerMapper(verbose=1)\n",
      "..Composing projection pipeline of length 1:\n",
      "\tProjections: PCA(n_components=2)\n",
      "\tDistance matrices: False\n",
      "\tScalers: None\n",
      "..Projecting on data shaped (408, 100)\n",
      "\n",
      "..Projecting data using: \n",
      "\tPCA(n_components=2)\n",
      "\n",
      "Mapping on data shaped (408, 100) using lens shaped (408, 2)\n",
      "\n",
      "Creating 2025 hypercubes.\n",
      "\n",
      "Created 2 edges and 12 nodes in 0:00:00.019715.\n",
      "Wrote visualization to: output/PCA_Graph_2.html\n"
     ]
    },
    {
     "data": {
      "text/html": [
       "\n",
       "        <iframe\n",
       "            width=\"800\"\n",
       "            height=\"600\"\n",
       "            src=\"output/PCA_Graph_2.html\"\n",
       "            frameborder=\"0\"\n",
       "            allowfullscreen\n",
       "            \n",
       "        ></iframe>\n",
       "        "
      ],
      "text/plain": [
       "<IPython.lib.display.IFrame at 0x17e93ba60>"
      ]
     },
     "execution_count": 10,
     "metadata": {},
     "output_type": "execute_result"
    }
   ],
   "source": [
    "lay_num = 2\n",
    "proj = PCA(2)\n",
    "graph_km(X_layer[lay_num], y_layer[lay_num], \n",
    "         projection=proj, \n",
    "         title='Weights to layer',\n",
    "         path='output/PCA_Graph_{}.html'.format(lay_num))\n",
    "IPython.display.IFrame('output/PCA_Graph_{}.html'.format(lay_num), 800, 600)"
   ]
  },
  {
   "cell_type": "markdown",
   "id": "def07f24-b8ac-4a13-b888-0e47897aee2a",
   "metadata": {},
   "source": [
    "TSNE"
   ]
  },
  {
   "cell_type": "code",
   "execution_count": 11,
   "id": "559495c2-7455-4c9e-ad32-4e312859d6b3",
   "metadata": {},
   "outputs": [
    {
     "name": "stdout",
     "output_type": "stream",
     "text": [
      "KeplerMapper(verbose=1)\n",
      "..Composing projection pipeline of length 1:\n",
      "\tProjections: TSNE()\n",
      "\tDistance matrices: False\n",
      "\tScalers: None\n",
      "..Projecting on data shaped (20400, 784)\n",
      "\n",
      "..Projecting data using: \n",
      "\tTSNE(verbose=1)\n",
      "\n",
      "[t-SNE] Computing 91 nearest neighbors...\n",
      "[t-SNE] Indexed 20400 samples in 0.003s...\n",
      "[t-SNE] Computed neighbors for 20400 samples in 1.662s...\n",
      "[t-SNE] Computed conditional probabilities for sample 1000 / 20400\n",
      "[t-SNE] Computed conditional probabilities for sample 2000 / 20400\n",
      "[t-SNE] Computed conditional probabilities for sample 3000 / 20400\n",
      "[t-SNE] Computed conditional probabilities for sample 4000 / 20400\n",
      "[t-SNE] Computed conditional probabilities for sample 5000 / 20400\n",
      "[t-SNE] Computed conditional probabilities for sample 6000 / 20400\n",
      "[t-SNE] Computed conditional probabilities for sample 7000 / 20400\n",
      "[t-SNE] Computed conditional probabilities for sample 8000 / 20400\n",
      "[t-SNE] Computed conditional probabilities for sample 9000 / 20400\n",
      "[t-SNE] Computed conditional probabilities for sample 10000 / 20400\n",
      "[t-SNE] Computed conditional probabilities for sample 11000 / 20400\n",
      "[t-SNE] Computed conditional probabilities for sample 12000 / 20400\n",
      "[t-SNE] Computed conditional probabilities for sample 13000 / 20400\n",
      "[t-SNE] Computed conditional probabilities for sample 14000 / 20400\n",
      "[t-SNE] Computed conditional probabilities for sample 15000 / 20400\n",
      "[t-SNE] Computed conditional probabilities for sample 16000 / 20400\n",
      "[t-SNE] Computed conditional probabilities for sample 17000 / 20400\n",
      "[t-SNE] Computed conditional probabilities for sample 18000 / 20400\n",
      "[t-SNE] Computed conditional probabilities for sample 19000 / 20400\n",
      "[t-SNE] Computed conditional probabilities for sample 20000 / 20400\n",
      "[t-SNE] Computed conditional probabilities for sample 20400 / 20400\n",
      "[t-SNE] Mean sigma: 0.004491\n"
     ]
    },
    {
     "name": "stderr",
     "output_type": "stream",
     "text": [
      "/Users/majal/Razvijam/topo-learning/topo-learning/.venv/lib/python3.10/site-packages/sklearn/utils/extmath.py:335: RuntimeWarning: divide by zero encountered in matmul\n",
      "  Q, _ = normalizer(A @ Q)\n",
      "/Users/majal/Razvijam/topo-learning/topo-learning/.venv/lib/python3.10/site-packages/sklearn/utils/extmath.py:335: RuntimeWarning: overflow encountered in matmul\n",
      "  Q, _ = normalizer(A @ Q)\n",
      "/Users/majal/Razvijam/topo-learning/topo-learning/.venv/lib/python3.10/site-packages/sklearn/utils/extmath.py:335: RuntimeWarning: invalid value encountered in matmul\n",
      "  Q, _ = normalizer(A @ Q)\n",
      "/Users/majal/Razvijam/topo-learning/topo-learning/.venv/lib/python3.10/site-packages/sklearn/utils/extmath.py:336: RuntimeWarning: divide by zero encountered in matmul\n",
      "  Q, _ = normalizer(A.T @ Q)\n",
      "/Users/majal/Razvijam/topo-learning/topo-learning/.venv/lib/python3.10/site-packages/sklearn/utils/extmath.py:336: RuntimeWarning: overflow encountered in matmul\n",
      "  Q, _ = normalizer(A.T @ Q)\n",
      "/Users/majal/Razvijam/topo-learning/topo-learning/.venv/lib/python3.10/site-packages/sklearn/utils/extmath.py:336: RuntimeWarning: invalid value encountered in matmul\n",
      "  Q, _ = normalizer(A.T @ Q)\n",
      "/Users/majal/Razvijam/topo-learning/topo-learning/.venv/lib/python3.10/site-packages/sklearn/utils/extmath.py:340: RuntimeWarning: divide by zero encountered in matmul\n",
      "  Q, _ = qr_normalizer(A @ Q)\n",
      "/Users/majal/Razvijam/topo-learning/topo-learning/.venv/lib/python3.10/site-packages/sklearn/utils/extmath.py:340: RuntimeWarning: overflow encountered in matmul\n",
      "  Q, _ = qr_normalizer(A @ Q)\n",
      "/Users/majal/Razvijam/topo-learning/topo-learning/.venv/lib/python3.10/site-packages/sklearn/utils/extmath.py:340: RuntimeWarning: invalid value encountered in matmul\n",
      "  Q, _ = qr_normalizer(A @ Q)\n",
      "/Users/majal/Razvijam/topo-learning/topo-learning/.venv/lib/python3.10/site-packages/sklearn/utils/extmath.py:533: RuntimeWarning: divide by zero encountered in matmul\n",
      "  B = Q.T @ M\n",
      "/Users/majal/Razvijam/topo-learning/topo-learning/.venv/lib/python3.10/site-packages/sklearn/utils/extmath.py:533: RuntimeWarning: overflow encountered in matmul\n",
      "  B = Q.T @ M\n",
      "/Users/majal/Razvijam/topo-learning/topo-learning/.venv/lib/python3.10/site-packages/sklearn/utils/extmath.py:533: RuntimeWarning: invalid value encountered in matmul\n",
      "  B = Q.T @ M\n",
      "/Users/majal/Razvijam/topo-learning/topo-learning/.venv/lib/python3.10/site-packages/sklearn/utils/extmath.py:547: RuntimeWarning: divide by zero encountered in matmul\n",
      "  U = Q @ Uhat\n",
      "/Users/majal/Razvijam/topo-learning/topo-learning/.venv/lib/python3.10/site-packages/sklearn/utils/extmath.py:547: RuntimeWarning: overflow encountered in matmul\n",
      "  U = Q @ Uhat\n",
      "/Users/majal/Razvijam/topo-learning/topo-learning/.venv/lib/python3.10/site-packages/sklearn/utils/extmath.py:547: RuntimeWarning: invalid value encountered in matmul\n",
      "  U = Q @ Uhat\n"
     ]
    },
    {
     "name": "stdout",
     "output_type": "stream",
     "text": [
      "[t-SNE] KL divergence after 250 iterations with early exaggeration: 65.824821\n",
      "[t-SNE] KL divergence after 1000 iterations: 0.420538\n",
      "Mapping on data shaped (20400, 784) using lens shaped (20400, 2)\n",
      "\n",
      "Creating 2025 hypercubes.\n",
      "\n",
      "Created 515 edges and 598 nodes in 0:00:00.645889.\n",
      "Wrote visualization to: output/TSNE_Graph_0.html\n"
     ]
    },
    {
     "data": {
      "text/html": [
       "\n",
       "        <iframe\n",
       "            width=\"800\"\n",
       "            height=\"600\"\n",
       "            src=\"TSNE_Graph_0.html\"\n",
       "            frameborder=\"0\"\n",
       "            allowfullscreen\n",
       "            \n",
       "        ></iframe>\n",
       "        "
      ],
      "text/plain": [
       "<IPython.lib.display.IFrame at 0x11808ffa0>"
      ]
     },
     "execution_count": 11,
     "metadata": {},
     "output_type": "execute_result"
    }
   ],
   "source": [
    "lay_num = 0\n",
    "proj = TSNE(n_components=2)\n",
    "graph_km(X_layer[lay_num], y_layer[lay_num], \n",
    "         projection=proj, \n",
    "         title='Weights to layer',\n",
    "         path='output/TSNE_Graph_{}.html'.format(lay_num))\n",
    "IPython.display.IFrame('TSNE_Graph_{}.html'.format(lay_num), 800, 600)"
   ]
  },
  {
   "cell_type": "code",
   "execution_count": 12,
   "id": "65d85c52-ce7c-48fd-92dd-17cdf2ed4690",
   "metadata": {},
   "outputs": [
    {
     "name": "stdout",
     "output_type": "stream",
     "text": [
      "KeplerMapper(verbose=1)\n",
      "..Composing projection pipeline of length 1:\n",
      "\tProjections: TSNE()\n",
      "\tDistance matrices: False\n",
      "\tScalers: None\n",
      "..Projecting on data shaped (20400, 100)\n",
      "\n",
      "..Projecting data using: \n",
      "\tTSNE(verbose=1)\n",
      "\n",
      "[t-SNE] Computing 91 nearest neighbors...\n",
      "[t-SNE] Indexed 20400 samples in 0.000s...\n",
      "[t-SNE] Computed neighbors for 20400 samples in 0.357s...\n",
      "[t-SNE] Computed conditional probabilities for sample 1000 / 20400\n",
      "[t-SNE] Computed conditional probabilities for sample 2000 / 20400\n",
      "[t-SNE] Computed conditional probabilities for sample 3000 / 20400\n",
      "[t-SNE] Computed conditional probabilities for sample 4000 / 20400\n",
      "[t-SNE] Computed conditional probabilities for sample 5000 / 20400\n",
      "[t-SNE] Computed conditional probabilities for sample 6000 / 20400\n",
      "[t-SNE] Computed conditional probabilities for sample 7000 / 20400\n",
      "[t-SNE] Computed conditional probabilities for sample 8000 / 20400\n",
      "[t-SNE] Computed conditional probabilities for sample 9000 / 20400\n",
      "[t-SNE] Computed conditional probabilities for sample 10000 / 20400\n",
      "[t-SNE] Computed conditional probabilities for sample 11000 / 20400\n",
      "[t-SNE] Computed conditional probabilities for sample 12000 / 20400\n",
      "[t-SNE] Computed conditional probabilities for sample 13000 / 20400\n",
      "[t-SNE] Computed conditional probabilities for sample 14000 / 20400\n",
      "[t-SNE] Computed conditional probabilities for sample 15000 / 20400\n",
      "[t-SNE] Computed conditional probabilities for sample 16000 / 20400\n",
      "[t-SNE] Computed conditional probabilities for sample 17000 / 20400\n",
      "[t-SNE] Computed conditional probabilities for sample 18000 / 20400\n",
      "[t-SNE] Computed conditional probabilities for sample 19000 / 20400\n",
      "[t-SNE] Computed conditional probabilities for sample 20000 / 20400\n",
      "[t-SNE] Computed conditional probabilities for sample 20400 / 20400\n",
      "[t-SNE] Mean sigma: 0.002292\n"
     ]
    },
    {
     "name": "stderr",
     "output_type": "stream",
     "text": [
      "/Users/majal/Razvijam/topo-learning/topo-learning/.venv/lib/python3.10/site-packages/sklearn/utils/extmath.py:335: RuntimeWarning: divide by zero encountered in matmul\n",
      "  Q, _ = normalizer(A @ Q)\n",
      "/Users/majal/Razvijam/topo-learning/topo-learning/.venv/lib/python3.10/site-packages/sklearn/utils/extmath.py:335: RuntimeWarning: overflow encountered in matmul\n",
      "  Q, _ = normalizer(A @ Q)\n",
      "/Users/majal/Razvijam/topo-learning/topo-learning/.venv/lib/python3.10/site-packages/sklearn/utils/extmath.py:335: RuntimeWarning: invalid value encountered in matmul\n",
      "  Q, _ = normalizer(A @ Q)\n",
      "/Users/majal/Razvijam/topo-learning/topo-learning/.venv/lib/python3.10/site-packages/sklearn/utils/extmath.py:336: RuntimeWarning: divide by zero encountered in matmul\n",
      "  Q, _ = normalizer(A.T @ Q)\n",
      "/Users/majal/Razvijam/topo-learning/topo-learning/.venv/lib/python3.10/site-packages/sklearn/utils/extmath.py:336: RuntimeWarning: overflow encountered in matmul\n",
      "  Q, _ = normalizer(A.T @ Q)\n",
      "/Users/majal/Razvijam/topo-learning/topo-learning/.venv/lib/python3.10/site-packages/sklearn/utils/extmath.py:336: RuntimeWarning: invalid value encountered in matmul\n",
      "  Q, _ = normalizer(A.T @ Q)\n",
      "/Users/majal/Razvijam/topo-learning/topo-learning/.venv/lib/python3.10/site-packages/sklearn/utils/extmath.py:340: RuntimeWarning: divide by zero encountered in matmul\n",
      "  Q, _ = qr_normalizer(A @ Q)\n",
      "/Users/majal/Razvijam/topo-learning/topo-learning/.venv/lib/python3.10/site-packages/sklearn/utils/extmath.py:340: RuntimeWarning: overflow encountered in matmul\n",
      "  Q, _ = qr_normalizer(A @ Q)\n",
      "/Users/majal/Razvijam/topo-learning/topo-learning/.venv/lib/python3.10/site-packages/sklearn/utils/extmath.py:340: RuntimeWarning: invalid value encountered in matmul\n",
      "  Q, _ = qr_normalizer(A @ Q)\n",
      "/Users/majal/Razvijam/topo-learning/topo-learning/.venv/lib/python3.10/site-packages/sklearn/utils/extmath.py:533: RuntimeWarning: divide by zero encountered in matmul\n",
      "  B = Q.T @ M\n",
      "/Users/majal/Razvijam/topo-learning/topo-learning/.venv/lib/python3.10/site-packages/sklearn/utils/extmath.py:533: RuntimeWarning: overflow encountered in matmul\n",
      "  B = Q.T @ M\n",
      "/Users/majal/Razvijam/topo-learning/topo-learning/.venv/lib/python3.10/site-packages/sklearn/utils/extmath.py:533: RuntimeWarning: invalid value encountered in matmul\n",
      "  B = Q.T @ M\n",
      "/Users/majal/Razvijam/topo-learning/topo-learning/.venv/lib/python3.10/site-packages/sklearn/utils/extmath.py:547: RuntimeWarning: divide by zero encountered in matmul\n",
      "  U = Q @ Uhat\n",
      "/Users/majal/Razvijam/topo-learning/topo-learning/.venv/lib/python3.10/site-packages/sklearn/utils/extmath.py:547: RuntimeWarning: overflow encountered in matmul\n",
      "  U = Q @ Uhat\n",
      "/Users/majal/Razvijam/topo-learning/topo-learning/.venv/lib/python3.10/site-packages/sklearn/utils/extmath.py:547: RuntimeWarning: invalid value encountered in matmul\n",
      "  U = Q @ Uhat\n"
     ]
    },
    {
     "name": "stdout",
     "output_type": "stream",
     "text": [
      "[t-SNE] KL divergence after 250 iterations with early exaggeration: 65.705612\n",
      "[t-SNE] KL divergence after 1000 iterations: 0.418129\n",
      "Mapping on data shaped (20400, 100) using lens shaped (20400, 2)\n",
      "\n",
      "Creating 2025 hypercubes.\n",
      "\n",
      "Created 509 edges and 594 nodes in 0:00:00.561433.\n",
      "Wrote visualization to: output/TSNE_Graph_1.html\n"
     ]
    },
    {
     "data": {
      "text/html": [
       "\n",
       "        <iframe\n",
       "            width=\"800\"\n",
       "            height=\"600\"\n",
       "            src=\"TSNE_Graph_1.html\"\n",
       "            frameborder=\"0\"\n",
       "            allowfullscreen\n",
       "            \n",
       "        ></iframe>\n",
       "        "
      ],
      "text/plain": [
       "<IPython.lib.display.IFrame at 0x17b4840d0>"
      ]
     },
     "execution_count": 12,
     "metadata": {},
     "output_type": "execute_result"
    }
   ],
   "source": [
    "lay_num = 1\n",
    "proj = TSNE(n_components=2)\n",
    "graph_km(X_layer[lay_num], y_layer[lay_num], \n",
    "         projection=proj, \n",
    "         title='Weights to layer',\n",
    "         path='output/TSNE_Graph_{}.html'.format(lay_num))\n",
    "IPython.display.IFrame('TSNE_Graph_{}.html'.format(lay_num), 800, 600)"
   ]
  },
  {
   "cell_type": "code",
   "execution_count": 13,
   "id": "419bf651-1cb7-4523-b8cc-e19455b6ea21",
   "metadata": {},
   "outputs": [
    {
     "name": "stdout",
     "output_type": "stream",
     "text": [
      "KeplerMapper(verbose=1)\n",
      "..Composing projection pipeline of length 1:\n",
      "\tProjections: TSNE()\n",
      "\tDistance matrices: False\n",
      "\tScalers: None\n",
      "..Projecting on data shaped (408, 100)\n",
      "\n",
      "..Projecting data using: \n",
      "\tTSNE(verbose=1)\n",
      "\n",
      "[t-SNE] Computing 91 nearest neighbors...\n",
      "[t-SNE] Indexed 408 samples in 0.000s...\n",
      "[t-SNE] Computed neighbors for 408 samples in 0.002s...\n",
      "[t-SNE] Computed conditional probabilities for sample 408 / 408\n",
      "[t-SNE] Mean sigma: 0.056476\n",
      "[t-SNE] KL divergence after 250 iterations with early exaggeration: 44.048813\n"
     ]
    },
    {
     "name": "stderr",
     "output_type": "stream",
     "text": [
      "/Users/majal/Razvijam/topo-learning/topo-learning/.venv/lib/python3.10/site-packages/sklearn/utils/extmath.py:335: RuntimeWarning: divide by zero encountered in matmul\n",
      "  Q, _ = normalizer(A @ Q)\n",
      "/Users/majal/Razvijam/topo-learning/topo-learning/.venv/lib/python3.10/site-packages/sklearn/utils/extmath.py:335: RuntimeWarning: overflow encountered in matmul\n",
      "  Q, _ = normalizer(A @ Q)\n",
      "/Users/majal/Razvijam/topo-learning/topo-learning/.venv/lib/python3.10/site-packages/sklearn/utils/extmath.py:335: RuntimeWarning: invalid value encountered in matmul\n",
      "  Q, _ = normalizer(A @ Q)\n",
      "/Users/majal/Razvijam/topo-learning/topo-learning/.venv/lib/python3.10/site-packages/sklearn/utils/extmath.py:336: RuntimeWarning: divide by zero encountered in matmul\n",
      "  Q, _ = normalizer(A.T @ Q)\n",
      "/Users/majal/Razvijam/topo-learning/topo-learning/.venv/lib/python3.10/site-packages/sklearn/utils/extmath.py:336: RuntimeWarning: overflow encountered in matmul\n",
      "  Q, _ = normalizer(A.T @ Q)\n",
      "/Users/majal/Razvijam/topo-learning/topo-learning/.venv/lib/python3.10/site-packages/sklearn/utils/extmath.py:336: RuntimeWarning: invalid value encountered in matmul\n",
      "  Q, _ = normalizer(A.T @ Q)\n",
      "/Users/majal/Razvijam/topo-learning/topo-learning/.venv/lib/python3.10/site-packages/sklearn/utils/extmath.py:340: RuntimeWarning: divide by zero encountered in matmul\n",
      "  Q, _ = qr_normalizer(A @ Q)\n",
      "/Users/majal/Razvijam/topo-learning/topo-learning/.venv/lib/python3.10/site-packages/sklearn/utils/extmath.py:340: RuntimeWarning: overflow encountered in matmul\n",
      "  Q, _ = qr_normalizer(A @ Q)\n",
      "/Users/majal/Razvijam/topo-learning/topo-learning/.venv/lib/python3.10/site-packages/sklearn/utils/extmath.py:340: RuntimeWarning: invalid value encountered in matmul\n",
      "  Q, _ = qr_normalizer(A @ Q)\n",
      "/Users/majal/Razvijam/topo-learning/topo-learning/.venv/lib/python3.10/site-packages/sklearn/utils/extmath.py:533: RuntimeWarning: divide by zero encountered in matmul\n",
      "  B = Q.T @ M\n",
      "/Users/majal/Razvijam/topo-learning/topo-learning/.venv/lib/python3.10/site-packages/sklearn/utils/extmath.py:533: RuntimeWarning: overflow encountered in matmul\n",
      "  B = Q.T @ M\n",
      "/Users/majal/Razvijam/topo-learning/topo-learning/.venv/lib/python3.10/site-packages/sklearn/utils/extmath.py:533: RuntimeWarning: invalid value encountered in matmul\n",
      "  B = Q.T @ M\n",
      "/Users/majal/Razvijam/topo-learning/topo-learning/.venv/lib/python3.10/site-packages/sklearn/utils/extmath.py:547: RuntimeWarning: divide by zero encountered in matmul\n",
      "  U = Q @ Uhat\n",
      "/Users/majal/Razvijam/topo-learning/topo-learning/.venv/lib/python3.10/site-packages/sklearn/utils/extmath.py:547: RuntimeWarning: overflow encountered in matmul\n",
      "  U = Q @ Uhat\n",
      "/Users/majal/Razvijam/topo-learning/topo-learning/.venv/lib/python3.10/site-packages/sklearn/utils/extmath.py:547: RuntimeWarning: invalid value encountered in matmul\n",
      "  U = Q @ Uhat\n"
     ]
    },
    {
     "name": "stdout",
     "output_type": "stream",
     "text": [
      "[t-SNE] KL divergence after 1000 iterations: 0.114643\n",
      "Mapping on data shaped (408, 100) using lens shaped (408, 2)\n",
      "\n",
      "Creating 2025 hypercubes.\n",
      "\n",
      "Created 61 edges and 98 nodes in 0:00:00.053609.\n",
      "Wrote visualization to: output/TSNE_Graph_2.html\n"
     ]
    },
    {
     "data": {
      "text/html": [
       "\n",
       "        <iframe\n",
       "            width=\"800\"\n",
       "            height=\"600\"\n",
       "            src=\"TSNE_Graph_2.html\"\n",
       "            frameborder=\"0\"\n",
       "            allowfullscreen\n",
       "            \n",
       "        ></iframe>\n",
       "        "
      ],
      "text/plain": [
       "<IPython.lib.display.IFrame at 0x1180604f0>"
      ]
     },
     "execution_count": 13,
     "metadata": {},
     "output_type": "execute_result"
    }
   ],
   "source": [
    "lay_num = 2\n",
    "proj = TSNE(n_components=2)\n",
    "graph_km(X_layer[lay_num], y_layer[lay_num], \n",
    "         projection=proj, \n",
    "         title='Weights to layer',\n",
    "         path='output/TSNE_Graph_{}.html'.format(lay_num),\n",
    "         clusterer=DBSCAN(eps=1.0, min_samples=2))\n",
    "IPython.display.IFrame('TSNE_Graph_{}.html'.format(lay_num), 800, 600)"
   ]
  },
  {
   "cell_type": "markdown",
   "id": "762e6776-db09-484e-be40-7f5106ffa24f",
   "metadata": {},
   "source": [
    "L2 norm"
   ]
  },
  {
   "cell_type": "code",
   "execution_count": 14,
   "id": "8a3079d5-2c81-4a4c-acd1-07ff9324201b",
   "metadata": {},
   "outputs": [
    {
     "name": "stdout",
     "output_type": "stream",
     "text": [
      "KeplerMapper(verbose=1)\n",
      "..Composing projection pipeline of length 1:\n",
      "\tProjections: l2norm\n",
      "\tDistance matrices: False\n",
      "\tScalers: None\n",
      "..Projecting on data shaped (20400, 784)\n",
      "\n",
      "..Projecting data using: l2norm\n",
      "Mapping on data shaped (20400, 784) using lens shaped (20400, 1)\n",
      "\n",
      "Creating 45 hypercubes.\n",
      "\n",
      "Created 190 edges and 288 nodes in 0:00:00.563598.\n",
      "Wrote visualization to: output/L2_Graph_0.html\n"
     ]
    },
    {
     "data": {
      "text/html": [
       "\n",
       "        <iframe\n",
       "            width=\"800\"\n",
       "            height=\"600\"\n",
       "            src=\"L2_Graph_0.html\"\n",
       "            frameborder=\"0\"\n",
       "            allowfullscreen\n",
       "            \n",
       "        ></iframe>\n",
       "        "
      ],
      "text/plain": [
       "<IPython.lib.display.IFrame at 0x17e951330>"
      ]
     },
     "execution_count": 14,
     "metadata": {},
     "output_type": "execute_result"
    }
   ],
   "source": [
    "lay_num = 0\n",
    "proj = 'l2norm'\n",
    "graph_km(X_layer[lay_num], y_layer[lay_num], \n",
    "         projection=proj, \n",
    "         title='Weights to layer',\n",
    "         path='output/L2_Graph_{}.html'.format(lay_num))\n",
    "IPython.display.IFrame('L2_Graph_{}.html'.format(lay_num), 800, 600)"
   ]
  },
  {
   "cell_type": "code",
   "execution_count": 15,
   "id": "b561c4be-ecb8-42ee-bec9-8ceba32c9b59",
   "metadata": {},
   "outputs": [
    {
     "name": "stdout",
     "output_type": "stream",
     "text": [
      "KeplerMapper(verbose=1)\n",
      "..Composing projection pipeline of length 1:\n",
      "\tProjections: l2norm\n",
      "\tDistance matrices: False\n",
      "\tScalers: None\n",
      "..Projecting on data shaped (20400, 100)\n",
      "\n",
      "..Projecting data using: l2norm\n",
      "Mapping on data shaped (20400, 100) using lens shaped (20400, 1)\n",
      "\n",
      "Creating 45 hypercubes.\n",
      "\n",
      "Created 265 edges and 365 nodes in 0:00:00.202794.\n",
      "Wrote visualization to: output/L2_Graph_1.html\n"
     ]
    },
    {
     "data": {
      "text/html": [
       "\n",
       "        <iframe\n",
       "            width=\"800\"\n",
       "            height=\"600\"\n",
       "            src=\"L2_Graph_1.html\"\n",
       "            frameborder=\"0\"\n",
       "            allowfullscreen\n",
       "            \n",
       "        ></iframe>\n",
       "        "
      ],
      "text/plain": [
       "<IPython.lib.display.IFrame at 0x17c1c8490>"
      ]
     },
     "execution_count": 15,
     "metadata": {},
     "output_type": "execute_result"
    }
   ],
   "source": [
    "lay_num = 1\n",
    "proj = 'l2norm'\n",
    "graph_km(X_layer[lay_num], y_layer[lay_num], \n",
    "         projection=proj, \n",
    "         title='Weights to layer',\n",
    "         path='output/L2_Graph_{}.html'.format(lay_num))\n",
    "IPython.display.IFrame('L2_Graph_{}.html'.format(lay_num), 800, 600)"
   ]
  },
  {
   "cell_type": "code",
   "execution_count": 16,
   "id": "2bc99d33-349f-4e6a-97f5-1096be6963e7",
   "metadata": {},
   "outputs": [
    {
     "name": "stdout",
     "output_type": "stream",
     "text": [
      "KeplerMapper(verbose=1)\n",
      "..Composing projection pipeline of length 1:\n",
      "\tProjections: l2norm\n",
      "\tDistance matrices: False\n",
      "\tScalers: None\n",
      "..Projecting on data shaped (408, 100)\n",
      "\n",
      "..Projecting data using: l2norm\n",
      "Mapping on data shaped (408, 100) using lens shaped (408, 1)\n",
      "\n",
      "Creating 45 hypercubes.\n",
      "\n",
      "Created 2 edges and 6 nodes in 0:00:00.007269.\n",
      "Wrote visualization to: output/L2_Graph_2.html\n"
     ]
    },
    {
     "data": {
      "text/html": [
       "\n",
       "        <iframe\n",
       "            width=\"800\"\n",
       "            height=\"600\"\n",
       "            src=\"L2_Graph_2.html\"\n",
       "            frameborder=\"0\"\n",
       "            allowfullscreen\n",
       "            \n",
       "        ></iframe>\n",
       "        "
      ],
      "text/plain": [
       "<IPython.lib.display.IFrame at 0x308f750c0>"
      ]
     },
     "execution_count": 16,
     "metadata": {},
     "output_type": "execute_result"
    }
   ],
   "source": [
    "lay_num = 2\n",
    "proj = 'l2norm'\n",
    "graph_km(X_layer[lay_num], y_layer[lay_num], \n",
    "         projection=proj, \n",
    "         title='Weights to layer',\n",
    "         path='output/L2_Graph_{}.html'.format(lay_num))\n",
    "IPython.display.IFrame('L2_Graph_{}.html'.format(lay_num), 800, 600)"
   ]
  },
  {
   "cell_type": "code",
   "execution_count": 17,
   "id": "080c0da2",
   "metadata": {},
   "outputs": [
    {
     "name": "stderr",
     "output_type": "stream",
     "text": [
      "/Users/majal/Razvijam/topo-learning/topo-learning/.venv/lib/python3.10/site-packages/sklearn/utils/deprecation.py:151: FutureWarning: 'force_all_finite' was renamed to 'ensure_all_finite' in 1.6 and will be removed in 1.8.\n",
      "  warnings.warn(\n",
      "/Users/majal/Razvijam/topo-learning/topo-learning/.venv/lib/python3.10/site-packages/sklearn/utils/deprecation.py:151: FutureWarning: 'force_all_finite' was renamed to 'ensure_all_finite' in 1.6 and will be removed in 1.8.\n",
      "  warnings.warn(\n",
      "/Users/majal/Razvijam/topo-learning/topo-learning/.venv/lib/python3.10/site-packages/sklearn/utils/extmath.py:203: RuntimeWarning: divide by zero encountered in matmul\n",
      "  ret = a @ b\n",
      "/Users/majal/Razvijam/topo-learning/topo-learning/.venv/lib/python3.10/site-packages/sklearn/utils/extmath.py:203: RuntimeWarning: overflow encountered in matmul\n",
      "  ret = a @ b\n",
      "/Users/majal/Razvijam/topo-learning/topo-learning/.venv/lib/python3.10/site-packages/sklearn/utils/extmath.py:203: RuntimeWarning: invalid value encountered in matmul\n",
      "  ret = a @ b\n"
     ]
    },
    {
     "data": {
      "application/vnd.plotly.v1+json": {
       "config": {
        "plotlyServerURL": "https://plot.ly"
       },
       "data": [
        {
         "hoverinfo": "none",
         "line": {
          "color": "black",
          "dash": "dash",
          "width": 1
         },
         "mode": "lines",
         "showlegend": false,
         "type": "scatter",
         "x": [
          -0.043315162658691404,
          2.209073295593262
         ],
         "y": [
          -0.043315162658691404,
          2.209073295593262
         ]
        },
        {
         "hoverinfo": "text",
         "hovertext": [
          "(np.float64(0.0), np.float64(0.0014814678579568863))",
          "(np.float64(0.0), np.float64(0.0014815701870247722))",
          "(np.float64(0.0), np.float64(0.0018227569526061416))",
          "(np.float64(0.0), np.float64(0.0018227610271424055))",
          "(np.float64(0.0), np.float64(0.002323193708434701))",
          "(np.float64(0.0), np.float64(0.0023232451640069485))",
          "(np.float64(0.0), np.float64(0.0024530491791665554))",
          "(np.float64(0.0), np.float64(0.0024531008675694466))",
          "(np.float64(0.0), np.float64(0.002673561219125986))",
          "(np.float64(0.0), np.float64(0.0026735898572951555))",
          "(np.float64(0.0), np.float64(0.0032049783039838076))",
          "(np.float64(0.0), np.float64(0.0032050530426204205))",
          "(np.float64(0.0), np.float64(0.003206204855814576))",
          "(np.float64(0.0), np.float64(0.0032062071841210127))",
          "(np.float64(0.0), np.float64(0.003535863012075424))",
          "(np.float64(0.0), np.float64(0.0035359496250748634))",
          "(np.float64(0.0), np.float64(0.0036806815769523382))",
          "(np.float64(0.0), np.float64(0.003680683672428131))",
          "(np.float64(0.0), np.float64(0.0037399721331894398))",
          "(np.float64(0.0), np.float64(0.003740033833310008))",
          "(np.float64(0.0), np.float64(0.003906544763594866))",
          "(np.float64(0.0), np.float64(0.003906566649675369))",
          "(np.float64(0.0), np.float64(0.004095705226063728))",
          "(np.float64(0.0), np.float64(0.004095784388482571))",
          "(np.float64(0.0), np.float64(0.004144746344536543))",
          "(np.float64(0.0), np.float64(0.004144770093262196))",
          "(np.float64(0.0), np.float64(0.0041548446752130985))",
          "(np.float64(0.0), np.float64(0.004154868423938751))",
          "(np.float64(0.0), np.float64(0.004173335153609514))",
          "(np.float64(0.0), np.float64(0.004173352848738432))",
          "(np.float64(0.0), np.float64(0.0043561733327806))",
          "(np.float64(0.0), np.float64(0.004356198478490114))",
          "(np.float64(0.0), np.float64(0.0044459146447479725))",
          "(np.float64(0.0), np.float64(0.004445924889296293))",
          "(np.float64(0.0), np.float64(0.004455834161490202))",
          "(np.float64(0.0), np.float64(0.004455894697457552))",
          "(np.float64(0.0), np.float64(0.004612760618329048))",
          "(np.float64(0.0), np.float64(0.004612761549651623))",
          "(np.float64(0.0), np.float64(0.0046280380338430405))",
          "(np.float64(0.0), np.float64(0.004628106020390987))",
          "(np.float64(0.0), np.float64(0.004705940373241901))",
          "(np.float64(0.0), np.float64(0.00470599252730608))",
          "(np.float64(0.0), np.float64(0.00474531902000308))",
          "(np.float64(0.0), np.float64(0.004745349753648043))",
          "(np.float64(0.0), np.float64(0.0047532436437904835))",
          "(np.float64(0.0), np.float64(0.0047532967291772366))",
          "(np.float64(0.0), np.float64(0.0047719222493469715))",
          "(np.float64(0.0), np.float64(0.004771951586008072))",
          "(np.float64(0.0), np.float64(0.004952282179147005))",
          "(np.float64(0.0), np.float64(0.004952284507453442))",
          "(np.float64(0.0), np.float64(0.0050340453162789345))",
          "(np.float64(0.0), np.float64(0.005034050438553095))",
          "(np.float64(0.0), np.float64(0.005051308311522007))",
          "(np.float64(0.0), np.float64(0.00505134416744113))",
          "(np.float64(0.0), np.float64(0.0051114908419549465))",
          "(np.float64(0.0), np.float64(0.005111527629196644))",
          "(np.float64(0.0), np.float64(0.005167215131223202))",
          "(np.float64(0.0), np.float64(0.005167221184819937))",
          "(np.float64(0.0), np.float64(0.005217886529862881))",
          "(np.float64(0.0), np.float64(0.0052179195918142796))",
          "(np.float64(0.0), np.float64(0.005319423973560333))",
          "(np.float64(0.0), np.float64(0.005319457501173019))",
          "(np.float64(0.0), np.float64(0.005502090789377689))",
          "(np.float64(0.0), np.float64(0.005502152256667614))",
          "(np.float64(0.0), np.float64(0.0055195847526192665))",
          "(np.float64(0.0), np.float64(0.005519589874893427))",
          "(np.float64(0.0), np.float64(0.005524851847440004))",
          "(np.float64(0.0), np.float64(0.005524854641407728))",
          "(np.float64(0.0), np.float64(0.005576024763286114))",
          "(np.float64(0.0), np.float64(0.005576101131737232))",
          "(np.float64(0.0), np.float64(0.00558909447863698))",
          "(np.float64(0.0), np.float64(0.005589151289314032))",
          "(np.float64(0.0), np.float64(0.00561228534206748))",
          "(np.float64(0.0), np.float64(0.005612336099147797))",
          "(np.float64(0.0), np.float64(0.005674238782376051))",
          "(np.float64(0.0), np.float64(0.005674297921359539))",
          "(np.float64(0.0), np.float64(0.005829093512147665))",
          "(np.float64(0.0), np.float64(0.005829143803566694))",
          "(np.float64(0.0), np.float64(0.005881424993276596))",
          "(np.float64(0.0), np.float64(0.0058814785443246365))",
          "(np.float64(0.0), np.float64(0.006007989402860403))",
          "(np.float64(0.0), np.float64(0.006007990799844265))",
          "(np.float64(0.0), np.float64(0.006033065263181925))",
          "(np.float64(0.0), np.float64(0.006033116020262241))",
          "(np.float64(0.0), np.float64(0.006066589616239071))",
          "(np.float64(0.0), np.float64(0.006066619884222746))",
          "(np.float64(0.0), np.float64(0.006144125480204821))",
          "(np.float64(0.0), np.float64(0.006144228391349316))",
          "(np.float64(0.0), np.float64(0.0061675142496824265))",
          "(np.float64(0.0), np.float64(0.006167557556182146))",
          "(np.float64(0.0), np.float64(0.006259372923523188))",
          "(np.float64(0.0), np.float64(0.00625951262190938))",
          "(np.float64(0.0), np.float64(0.006284825038164854))",
          "(np.float64(0.0), np.float64(0.006284847855567932))",
          "(np.float64(0.0), np.float64(0.006315769162029028))",
          "(np.float64(0.0), np.float64(0.006315861362963915))",
          "(np.float64(0.0), np.float64(0.006323245819658041))",
          "(np.float64(0.0), np.float64(0.006323303561657667))",
          "(np.float64(0.0), np.float64(0.00639183958992362))",
          "(np.float64(0.0), np.float64(0.006391850765794516))",
          "(np.float64(0.0), np.float64(0.00640400405973196))",
          "(np.float64(0.0), np.float64(0.006404047831892967))",
          "(np.float64(0.0), np.float64(0.006438743323087692))",
          "(np.float64(0.0), np.float64(0.006438768934458494))",
          "(np.float64(0.0), np.float64(0.006484501995146275))",
          "(np.float64(0.0), np.float64(0.0064845397137105465))",
          "(np.float64(0.0), np.float64(0.006540806498378515))",
          "(np.float64(0.0), np.float64(0.006540847476571798))",
          "(np.float64(0.0), np.float64(0.006548009347170591))",
          "(np.float64(0.0), np.float64(0.006548070814460516))",
          "(np.float64(0.0), np.float64(0.00655748974531889))",
          "(np.float64(0.0), np.float64(0.0065575456246733665))",
          "(np.float64(0.0), np.float64(0.006640258710831404))",
          "(np.float64(0.0), np.float64(0.006640269886702299))",
          "(np.float64(0.0), np.float64(0.006644848268479109))",
          "(np.float64(0.0), np.float64(0.006644859444350004))",
          "(np.float64(0.0), np.float64(0.006668795365840197))",
          "(np.float64(0.0), np.float64(0.006668828893452883))",
          "(np.float64(0.0), np.float64(0.006705704610794783))",
          "(np.float64(0.0), np.float64(0.006705753970891237))",
          "(np.float64(0.0), np.float64(0.006819203961640596))",
          "(np.float64(0.0), np.float64(0.006819227710366249))",
          "(np.float64(0.0), np.float64(0.006964283995330334))",
          "(np.float64(0.0), np.float64(0.006964384578168392))",
          "(np.float64(0.0), np.float64(0.006974522955715656))",
          "(np.float64(0.0), np.float64(0.006974576972424984))",
          "(np.float64(0.0), np.float64(0.007103216368705034))",
          "(np.float64(0.0), np.float64(0.007103280164301395))",
          "(np.float64(0.0), np.float64(0.007143809460103512))",
          "(np.float64(0.0), np.float64(0.0071439058519899845))",
          "(np.float64(0.0), np.float64(0.007145206443965435))",
          "(np.float64(0.0), np.float64(0.007145239505916834))",
          "(np.float64(0.0), np.float64(0.007192037999629974))",
          "(np.float64(0.0), np.float64(0.00719210272654891))",
          "(np.float64(0.0), np.float64(0.00727964797988534))",
          "(np.float64(0.0), np.float64(0.007279678713530302))",
          "(np.float64(0.0), np.float64(0.0072880578227341175))",
          "(np.float64(0.0), np.float64(0.007288180757313967))",
          "(np.float64(0.0), np.float64(0.007305912673473358))",
          "(np.float64(0.0), np.float64(0.007305944338440895))",
          "(np.float64(0.0), np.float64(0.007319992408156395))",
          "(np.float64(0.0), np.float64(0.007320031989365816))",
          "(np.float64(0.0), np.float64(0.007339132018387318))",
          "(np.float64(0.0), np.float64(0.007339232135564089))",
          "(np.float64(0.0), np.float64(0.007394310086965561))",
          "(np.float64(0.0), np.float64(0.0073943352326750755))",
          "(np.float64(0.0), np.float64(0.007588316220790148))",
          "(np.float64(0.0), np.float64(0.007588373497128487))",
          "(np.float64(0.0), np.float64(0.007593213580548763))",
          "(np.float64(0.0), np.float64(0.007593250367790461))",
          "(np.float64(0.0), np.float64(0.007645777892321348))",
          "(np.float64(0.0), np.float64(0.007645788602530956))",
          "(np.float64(0.0), np.float64(0.007647727150470018))",
          "(np.float64(0.0), np.float64(0.0076478333212435246))",
          "(np.float64(0.0), np.float64(0.007704030256718397))",
          "(np.float64(0.0), np.float64(0.007704109884798527))",
          "(np.float64(0.0), np.float64(0.007706945762038231))",
          "(np.float64(0.0), np.float64(0.0077069601975381374))",
          "(np.float64(0.0), np.float64(0.007725851610302925))",
          "(np.float64(0.0), np.float64(0.007725866045802832))",
          "(np.float64(0.0), np.float64(0.0077639613300561905))",
          "(np.float64(0.0), np.float64(0.007763965986669064))",
          "(np.float64(0.0), np.float64(0.007818367332220078))",
          "(np.float64(0.0), np.float64(0.007818503305315971))",
          "(np.float64(0.0), np.float64(0.007833165116608143))",
          "(np.float64(0.0), np.float64(0.007833240553736687))",
          "(np.float64(0.0), np.float64(0.007857367396354675))",
          "(np.float64(0.0), np.float64(0.00785740464925766))",
          "(np.float64(0.0), np.float64(0.007945101708173752))",
          "(np.float64(0.0), np.float64(0.007945138029754162))",
          "(np.float64(0.0), np.float64(0.008010068908333778))",
          "(np.float64(0.0), np.float64(0.008010082878172398))",
          "(np.float64(0.0), np.float64(0.008013934828341007))",
          "(np.float64(0.0), np.float64(0.008013950660824776))",
          "(np.float64(0.0), np.float64(0.00802537053823471))",
          "(np.float64(0.0), np.float64(0.008025441318750381))",
          "(np.float64(0.0), np.float64(0.008062034845352173))",
          "(np.float64(0.0), np.float64(0.00806216336786747))",
          "(np.float64(0.0), np.float64(0.008235485292971134))",
          "(np.float64(0.0), np.float64(0.008235516026616096))",
          "(np.float64(0.0), np.float64(0.00824438314884901))",
          "(np.float64(0.0), np.float64(0.00824448000639677))",
          "(np.float64(0.0), np.float64(0.008247731253504753))",
          "(np.float64(0.0), np.float64(0.008247767575085163))",
          "(np.float64(0.0), np.float64(0.008250162936747074))",
          "(np.float64(0.0), np.float64(0.008250175975263119))",
          "(np.float64(0.0), np.float64(0.008267275057733059))",
          "(np.float64(0.0), np.float64(0.008267315104603767))",
          "(np.float64(0.0), np.float64(0.008308417163789272))",
          "(np.float64(0.0), np.float64(0.008308714255690575))",
          "(np.float64(0.0), np.float64(0.008527621626853943))",
          "(np.float64(0.0), np.float64(0.008527673780918121))",
          "(np.float64(0.0), np.float64(0.0085442578420043))",
          "(np.float64(0.0), np.float64(0.008544297888875008))",
          "(np.float64(0.0), np.float64(0.008616560138761997))",
          "(np.float64(0.0), np.float64(0.008616762235760689))",
          "(np.float64(0.0), np.float64(0.008706346154212952))",
          "(np.float64(0.0), np.float64(0.008706385269761086))",
          "(np.float64(0.0), np.float64(0.00874578207731247))",
          "(np.float64(0.0), np.float64(0.00874585285782814))",
          "(np.float64(0.0), np.float64(0.008812838234007359))",
          "(np.float64(0.0), np.float64(0.00881285686045885))",
          "(np.float64(0.0), np.float64(0.008816458284854889))",
          "(np.float64(0.0), np.float64(0.008816545829176903))",
          "(np.float64(0.0), np.float64(0.008822646923363209))",
          "(np.float64(0.0), np.float64(0.008822656236588955))",
          "(np.float64(0.0), np.float64(0.008918304927647114))",
          "(np.float64(0.0), np.float64(0.008918523788452148))",
          "(np.float64(0.0), np.float64(0.008964086882770061))",
          "(np.float64(0.0), np.float64(0.008964131586253643))",
          "(np.float64(0.0), np.float64(0.0090631153434515))",
          "(np.float64(0.0), np.float64(0.009063168428838253))",
          "(np.float64(0.0), np.float64(0.009063689969480038))",
          "(np.float64(0.0), np.float64(0.009063729085028172))",
          "(np.float64(0.0), np.float64(0.009140443988144398))",
          "(np.float64(0.0), np.float64(0.00914047285914421))",
          "(np.float64(0.0), np.float64(0.009248500689864159))",
          "(np.float64(0.0), np.float64(0.00924857147037983))",
          "(np.float64(0.0), np.float64(0.009381071664392948))",
          "(np.float64(0.0), np.float64(0.009381216950714588))",
          "(np.float64(0.0), np.float64(0.009386743418872356))",
          "(np.float64(0.0), np.float64(0.009386789985001087))",
          "(np.float64(0.0), np.float64(0.009435608983039856))",
          "(np.float64(0.0), np.float64(0.009435628540813923))",
          "(np.float64(0.0), np.float64(0.009479342959821224))",
          "(np.float64(0.0), np.float64(0.009479529224336147))",
          "(np.float64(0.0), np.float64(0.00948080513626337))",
          "(np.float64(0.0), np.float64(0.009480871260166168))",
          "(np.float64(0.0), np.float64(0.009541698731482029))",
          "(np.float64(0.0), np.float64(0.009541764855384827))",
          "(np.float64(0.0), np.float64(0.009554837830364704))",
          "(np.float64(0.0), np.float64(0.009554884396493435))",
          "(np.float64(0.0), np.float64(0.009577251970767975))",
          "(np.float64(0.0), np.float64(0.009577254764735699))",
          "(np.float64(0.0), np.float64(0.009670989587903023))",
          "(np.float64(0.0), np.float64(0.009671123698353767))",
          "(np.float64(0.0), np.float64(0.009698928333818913))",
          "(np.float64(0.0), np.float64(0.009698934853076935))",
          "(np.float64(0.0), np.float64(0.009816691279411316))",
          "(np.float64(0.0), np.float64(0.009816734120249748))",
          "(np.float64(0.0), np.float64(0.00984965730458498))",
          "(np.float64(0.0), np.float64(0.009849673137068748))",
          "(np.float64(0.0), np.float64(0.009951277635991573))",
          "(np.float64(0.0), np.float64(0.009951294399797916))",
          "(np.float64(0.0), np.float64(0.009951568208634853))",
          "(np.float64(0.0), np.float64(0.009951661340892315))",
          "(np.float64(0.0), np.float64(0.01002674363553524))",
          "(np.float64(0.0), np.float64(0.010026768781244755))",
          "(np.float64(0.0), np.float64(0.010047126561403275))",
          "(np.float64(0.0), np.float64(0.010047134943306446))",
          "(np.float64(0.0), np.float64(0.010133698582649231))",
          "(np.float64(0.0), np.float64(0.010133720934391022))",
          "(np.float64(0.0), np.float64(0.010208611376583576))",
          "(np.float64(0.0), np.float64(0.010208713822066784))",
          "(np.float64(0.0), np.float64(0.01025458425283432))",
          "(np.float64(0.0), np.float64(0.01025463081896305))",
          "(np.float64(0.0), np.float64(0.010260024107992649))",
          "(np.float64(0.0), np.float64(0.010260043665766716))",
          "(np.float64(0.0), np.float64(0.01031506061553955))",
          "(np.float64(0.0), np.float64(0.010315079241991043))",
          "(np.float64(0.0), np.float64(0.010327779687941074))",
          "(np.float64(0.0), np.float64(0.010327845811843872))",
          "(np.float64(0.0), np.float64(0.010363351553678513))",
          "(np.float64(0.0), np.float64(0.010363444685935974))",
          "(np.float64(0.0), np.float64(0.010454069823026657))",
          "(np.float64(0.0), np.float64(0.010454075410962105))",
          "(np.float64(0.0), np.float64(0.010469374246895313))",
          "(np.float64(0.0), np.float64(0.010469411499798298))",
          "(np.float64(0.0), np.float64(0.010493169538676739))",
          "(np.float64(0.0), np.float64(0.010493280366063118))",
          "(np.float64(0.0), np.float64(0.010705332271754742))",
          "(np.float64(0.0), np.float64(0.010705437511205673))",
          "(np.float64(0.0), np.float64(0.010993363335728645))",
          "(np.float64(0.0), np.float64(0.010993383824825287))",
          "(np.float64(0.0), np.float64(0.011006521992385387))",
          "(np.float64(0.0), np.float64(0.011006570421159267))",
          "(np.float64(0.0), np.float64(0.011080669239163399))",
          "(np.float64(0.0), np.float64(0.011080680415034294))",
          "(np.float64(0.0), np.float64(0.011091852560639381))",
          "(np.float64(0.0), np.float64(0.011091960594058037))",
          "(np.float64(0.0), np.float64(0.011203974485397339))",
          "(np.float64(0.0), np.float64(0.01120399683713913))",
          "(np.float64(0.0), np.float64(0.011229843832552433))",
          "(np.float64(0.0), np.float64(0.011229929514229298))",
          "(np.float64(0.0), np.float64(0.011301819235086441))",
          "(np.float64(0.0), np.float64(0.011301925405859947))",
          "(np.float64(0.0), np.float64(0.011307531967759132))",
          "(np.float64(0.0), np.float64(0.011307612992823124))",
          "(np.float64(0.0), np.float64(0.01135416328907013))",
          "(np.float64(0.0), np.float64(0.011354218237102032))",
          "(np.float64(0.0), np.float64(0.011398431845009327))",
          "(np.float64(0.0), np.float64(0.01139848493039608))",
          "(np.float64(0.0), np.float64(0.011484701186418533))",
          "(np.float64(0.0), np.float64(0.011484740301966667))",
          "(np.float64(0.0), np.float64(0.011504224501550198))",
          "(np.float64(0.0), np.float64(0.011504397727549076))",
          "(np.float64(0.0), np.float64(0.011569153517484665))",
          "(np.float64(0.0), np.float64(0.011569159105420113))",
          "(np.float64(0.0), np.float64(0.011652234010398388))",
          "(np.float64(0.0), np.float64(0.01165226474404335))",
          "(np.float64(0.0), np.float64(0.011776542291045189))",
          "(np.float64(0.0), np.float64(0.011776608414947987))",
          "(np.float64(0.0), np.float64(0.011803459376096725))",
          "(np.float64(0.0), np.float64(0.011803533881902695))",
          "(np.float64(0.0), np.float64(0.011838004924356937))",
          "(np.float64(0.0), np.float64(0.011838007718324661))",
          "(np.float64(0.0), np.float64(0.011917255818843842))",
          "(np.float64(0.0), np.float64(0.011917262338101864))",
          "(np.float64(0.0), np.float64(0.011923669837415218))",
          "(np.float64(0.0), np.float64(0.011923834681510925))",
          "(np.float64(0.0), np.float64(0.012607619166374207))",
          "(np.float64(0.0), np.float64(0.012607689015567303))",
          "(np.float64(0.0), np.float64(0.012622049078345299))",
          "(np.float64(0.0), np.float64(0.012622162699699402))",
          "(np.float64(0.0), np.float64(0.01289532519876957))",
          "(np.float64(0.0), np.float64(0.012895340099930763))",
          "(np.float64(0.0), np.float64(0.01295081339776516))",
          "(np.float64(0.0), np.float64(0.012950871139764786))",
          "(np.float64(0.0), np.float64(0.013013314455747604))",
          "(np.float64(0.0), np.float64(0.013013346120715141))",
          "(np.float64(0.0), np.float64(0.013089167885482311))",
          "(np.float64(0.0), np.float64(0.013089217245578766))",
          "(np.float64(0.0), np.float64(0.013462920673191547))",
          "(np.float64(0.0), np.float64(0.013462947681546211))",
          "(np.float64(0.0), np.float64(0.01364036463201046))",
          "(np.float64(0.0), np.float64(0.013640391640365124))",
          "(np.float64(0.0), np.float64(0.013719622045755386))",
          "(np.float64(0.0), np.float64(0.013719634152948856))",
          "(np.float64(0.0), np.float64(0.014673921279609203))",
          "(np.float64(0.0), np.float64(0.01467395480722189))",
          "(np.float64(0.0), np.float64(0.014741952531039715))",
          "(np.float64(0.0), np.float64(0.014741957187652588))",
          "(np.float64(0.0), np.float64(0.01599537394940853))",
          "(np.float64(0.0), np.float64(0.015995441004633904))",
          "(np.float64(0.0), np.float64(0.016866689547896385))",
          "(np.float64(0.0), np.float64(0.016866691410541534))",
          "(np.float64(0.0), np.float64(0.017319360747933388))",
          "(np.float64(0.0), np.float64(0.01731940731406212))",
          "(np.float64(0.0), np.float64(0.01733015477657318))",
          "(np.float64(0.0), np.float64(0.017330210655927658))",
          "(np.float64(0.0), np.float64(0.017456868663430214))",
          "(np.float64(0.0), np.float64(0.017456939443945885))",
          "(np.float64(0.0), np.float64(0.019931182265281677))",
          "(np.float64(0.0), np.float64(0.019931213930249214))",
          "(np.float64(0.0), np.float64(0.020206959918141365))",
          "(np.float64(0.0), np.float64(0.020207004621624947))",
          "(np.float64(0.0), np.float64(0.02126886323094368))",
          "(np.float64(0.0), np.float64(0.021268904209136963))",
          "(np.float64(0.0), np.float64(0.02200595661997795))",
          "(np.float64(0.0), np.float64(0.022006018087267876))",
          "(np.float64(0.0), np.float64(0.022031685337424278))",
          "(np.float64(0.0), np.float64(0.022031724452972412))",
          "(np.float64(0.0), np.float64(0.0231965109705925))",
          "(np.float64(0.0), np.float64(0.023196512833237648))",
          "(np.float64(0.0), np.float64(0.023533523082733154))",
          "(np.float64(0.0), np.float64(0.023533549159765244))",
          "(np.float64(0.0), np.float64(0.023611759766936302))",
          "(np.float64(0.0), np.float64(0.023611802607774734))",
          "(np.float64(0.0), np.float64(0.023732608184218407))",
          "(np.float64(0.0), np.float64(0.0237326230853796))",
          "(np.float64(0.0), np.float64(0.024244992062449455))",
          "(np.float64(0.0), np.float64(0.0242450051009655))",
          "(np.float64(0.0), np.float64(0.02594098448753357))",
          "(np.float64(0.0), np.float64(0.025940995663404465))",
          "(np.float64(0.0), np.float64(0.026981523260474205))",
          "(np.float64(0.0), np.float64(0.026981642469763756))",
          "(np.float64(0.0), np.float64(0.027575811371207237))",
          "(np.float64(0.0), np.float64(0.02757589891552925))",
          "(np.float64(0.0), np.float64(0.03054363653063774))",
          "(np.float64(0.0), np.float64(0.030543716624379158))",
          "(np.float64(0.0), np.float64(0.03469788655638695))",
          "(np.float64(0.0), np.float64(0.03469796106219292))",
          "(np.float64(0.0), np.float64(0.039596039801836014))",
          "(np.float64(0.0), np.float64(0.0395960658788681))",
          "(np.float64(0.0), np.float64(0.0404033325612545))",
          "(np.float64(0.0), np.float64(0.040403395891189575))",
          "(np.float64(0.0), np.float64(0.04436936229467392))",
          "(np.float64(0.0), np.float64(0.044369447976350784))",
          "(np.float64(0.0), np.float64(0.05079641565680504))",
          "(np.float64(0.0), np.float64(0.05079643428325653))",
          "(np.float64(0.0), np.float64(0.051373839378356934))",
          "(np.float64(0.0), np.float64(0.05137384682893753))",
          "(np.float64(0.0), np.float64(0.053159404546022415))",
          "(np.float64(0.0), np.float64(0.05315948277711868))",
          "(np.float64(0.0), np.float64(0.058782972395420074))",
          "(np.float64(0.0), np.float64(0.05878298729658127))",
          "(np.float64(0.0), np.float64(0.0698247030377388))",
          "(np.float64(0.0), np.float64(0.06982474029064178))",
          "(np.float64(0.0), np.float64(0.07313493639230728))",
          "(np.float64(0.0), np.float64(0.07313495129346848))",
          "(np.float64(0.0), np.float64(0.07938641309738159))",
          "(np.float64(0.0), np.float64(0.07938645035028458))",
          "(np.float64(0.0), np.float64(0.09452035278081894))",
          "(np.float64(0.0), np.float64(0.09452041983604431))",
          "(np.float64(0.0), np.float64(0.09471854567527771))",
          "(np.float64(0.0), np.float64(0.0947185531258583))",
          "(np.float64(0.0), np.float64(0.10732246190309525))",
          "(np.float64(0.0), np.float64(0.10732248425483704))",
          "(np.float64(0.0), np.float64(0.11805755645036697))",
          "(np.float64(0.0), np.float64(0.11805757880210876))",
          "(np.float64(0.0), np.float64(0.11975028365850449))",
          "(np.float64(0.0), np.float64(0.11975030601024628))",
          "(np.float64(0.0), np.float64(0.1302572339773178))",
          "(np.float64(0.0), np.float64(0.130257248878479))",
          "(np.float64(0.0), np.float64(0.13150982558727264))",
          "(np.float64(0.0), np.float64(0.13150984048843384))",
          "(np.float64(0.0), np.float64(2.1657581329345703))"
         ],
         "mode": "markers",
         "name": "H0",
         "type": "scatter",
         "x": {
          "bdata": "AAAAAAAAAAAAAAAAAAAAAAAAAAAAAAAAAAAAAAAAAAAAAAAAAAAAAAAAAAAAAAAAAAAAAAAAAAAAAAAAAAAAAAAAAAAAAAAAAAAAAAAAAAAAAAAAAAAAAAAAAAAAAAAAAAAAAAAAAAAAAAAAAAAAAAAAAAAAAAAAAAAAAAAAAAAAAAAAAAAAAAAAAAAAAAAAAAAAAAAAAAAAAAAAAAAAAAAAAAAAAAAAAAAAAAAAAAAAAAAAAAAAAAAAAAAAAAAAAAAAAAAAAAAAAAAAAAAAAAAAAAAAAAAAAAAAAAAAAAAAAAAAAAAAAAAAAAAAAAAAAAAAAAAAAAAAAAAAAAAAAAAAAAAAAAAAAAAAAAAAAAAAAAAAAAAAAAAAAAAAAAAAAAAAAAAAAAAAAAAAAAAAAAAAAAAAAAAAAAAAAAAAAAAAAAAAAAAAAAAAAAAAAAAAAAAAAAAAAAAAAAAAAAAAAAAAAAAAAAAAAAAAAAAAAAAAAAAAAAAAAAAAAAAAAAAAAAAAAAAAAAAAAAAAAAAAAAAAAAAAAAAAAAAAAAAAAAAAAAAAAAAAAAAAAAAAAAAAAAAAAAAAAAAAAAAAAAAAAAAAAAAAAAAAAAAAAAAAAAAAAAAAAAAAAAAAAAAAAAAAAAAAAAAAAAAAAAAAAAAAAAAAAAAAAAAAAAAAAAAAAAAAAAAAAAAAAAAAAAAAAAAAAAAAAAAAAAAAAAAAAAAAAAAAAAAAAAAAAAAAAAAAAAAAAAAAAAAAAAAAAAAAAAAAAAAAAAAAAAAAAAAAAAAAAAAAAAAAAAAAAAAAAAAAAAAAAAAAAAAAAAAAAAAAAAAAAAAAAAAAAAAAAAAAAAAAAAAAAAAAAAAAAAAAAAAAAAAAAAAAAAAAAAAAAAAAAAAAAAAAAAAAAAAAAAAAAAAAAAAAAAAAAAAAAAAAAAAAAAAAAAAAAAAAAAAAAAAAAAAAAAAAAAAAAAAAAAAAAAAAAAAAAAAAAAAAAAAAAAAAAAAAAAAAAAAAAAAAAAAAAAAAAAAAAAAAAAAAAAAAAAAAAAAAAAAAAAAAAAAAAAAAAAAAAAAAAAAAAAAAAAAAAAAAAAAAAAAAAAAAAAAAAAAAAAAAAAAAAAAAAAAAAAAAAAAAAAAAAAAAAAAAAAAAAAAAAAAAAAAAAAAAAAAAAAAAAAAAAAAAAAAAAAAAAAAAAAAAAAAAAAAAAAAAAAAAAAAAAAAAAAAAAAAAAAAAAAAAAAAAAAAAAAAAAAAAAAAAAAAAAAAAAAAAAAAAAAAAAAAAAAAAAAAAAAAAAAAAAAAAAAAAAAAAAAAAAAAAAAAAAAAAAAAAAAAAAAAAAAAAAAAAAAAAAAAAAAAAAAAAAAAAAAAAAAAAAAAAAAAAAAAAAAAAAAAAAAAAAAAAAAAAAAAAAAAAAAAAAAAAAAAAAAAAAAAAAAAAAAAAAAAAAAAAAAAAAAAAAAAAAAAAAAAAAAAAAAAAAAAAAAAAAAAAAAAAAAAAAAAAAAAAAAAAAAAAAAAAAAAAAAAAAAAAAAAAAAAAAAAAAAAAAAAAAAAAAAAAAAAAAAAAAAAAAAAAAAAAAAAAAAAAAAAAAAAAAAAAAAAAAAAAAAAAAAAAAAAAAAAAAAAAAAAAAAAAAAAAAAAAAAAAAAAAAAAAAAAAAAAAAAAAAAAAAAAAAAAAAAAAAAAAAAAAAAAAAAAAAAAAAAAAAAAAAAAAAAAAAAAAAAAAAAAAAAAAAAAAAAAAAAAAAAAAAAAAAAAAAAAAAAAAAAAAAAAAAAAAAAAAAAAAAAAAAAAAAAAAAAAAAAAAAAAAAAAAAAAAAAAAAAAAAAAAAAAAAAAAAAAAAAAAAAAAAAAAAAAAAAAAAAAAAAAAAAAAAAAAAAAAAAAAAAAAAAAAAAAAAAAAAAAAAAAAAAAAAAAAAAAAAAAAAAAAAAAAAAAAAAAAAAAAAAAAAAAAAAAAAAAAAAAAAAAAAAAAAAAAAAAAAAAAAAAAAAAAAAAAAAAAAAAAAAAAAAAAAAAAAAAAAAAAAAAAAAAAAAAAAAAAAAAAAAAAAAAAAAAAAAAAAAAAAAAAAAAAAAAAAAAAAAAAAAAAAAAAAAAAAAAAAAAAAAAAAAAAAAAAAAAAAAAAAAAAAAAAAAAAAAAAAAAAAAAAAAAAAAAAAAAAAAAAAAAAAAAAAAAAAAAAAAAAAAAAAAAAAAAAAAAAAAAAAAAAAAAAAAAAAAAAAAAAAAAAAAAAAAAAAAAAAAAAAAAAAAAAAAAAAAAAAAAAAAAAAAAAAAAAAAAAAAAAAAAAAAAAAAAAAAAAAAAAAAAAAAAAAAAAAAAAAAAAAAAAAAAAAAAAAAAAAAAAAAAAAAAAAAAAAAAAAAAAAAAAAAAAAAAAAAAAAAAAAAAAAAAAAAAAAAAAAAAAAAAAAAAAAAAAAAAAAAAAAAAAAAAAAAAAAAAAAAAAAAAAAAAAAAAAAAAAAAAAAAAAAAAAAAAAAAAAAAAAAAAAAAAAAAAAAAAAAAAAAAAAAAAAAAAAAAAAAAAAAAAAAAAAAAAAAAAAAAAAAAAAAAAAAAAAAAAAAAAAAAAAAAAAAAAAAAAAAAAAAAAAAAAAAAAAAAAAAAAAAAAAAAAAAAAAAAAAAAAAAAAAAAAAAAAAAAAAAAAAAAAAAAAAAAAAAAAAAAAAAAAAAAAAAAAAAAAAAAAAAAAAAAAAAAAAAAAAAAAAAAAAAAAAAAAAAAAAAAAAAAAAAAAAAAAAAAAAAAAAAAAAAAAAAAAAAAAAAAAAAAAAAAAAAAAAAAAAAAAAAAAAAAAAAAAAAAAAAAAAAAAAAAAAAAAAAAAAAAAAAAAAAAAAAAAAAAAAAAAAAAAAAAAAAAAAAAAAAAAAAAAAAAAAAAAAAAAAAAAAAAAAAAAAAAAAAAAAAAAAAAAAAAAAAAAAAAAAAAAAAAAAAAAAAAAAAAAAAAAAAAAAAAAAAAAAAAAAAAAAAAAAAAAAAAAAAAAAAAAAAAAAAAAAAAAAAAAAAAAAAAAAAAAAAAAAAAAAAAAAAAAAAAAAAAAAAAAAAAAAAAAAAAAAAAAAAAAAAAAAAAAAAAAAAAAAAAAAAAAAAAAAAAAAAAAAAAAAAAAAAAAAAAAAAAAAAAAAAAAAAAAAAAAAAAAAAAAAAAAAAAAAAAAAAAAAAAAAAAAAAAAAAAAAAAAAAAAAAAAAAAAAAAAAAAAAAAAAAAAAAAAAAAAAAAAAAAAAAAAAAAAAAAAAAAAAAAAAAAAAAAAAAAAAAAAAAAAAAAAAAAAAAAAAAAAAAAAAAAAAAAAAAAAAAAAAAAAAAAAAAAAAAAAAAAAAAAAAAAAAAAAAAAAAAAAAAAAAAAAAAAAAAAAAAAAAAAAAAAAAAAAAAAAAAAAAAAAAAAAAAAAAAAAAAAAAAAAAAAAAAAAAAAAAAAAAAAAAAAAAAAAAAAAAAAAAAAAAAAAAAAAAAAAAAAAAAAAAAAAAAAAAAAAAAAAAAAAAAAAAAAAAAAAAAAAAAAAAAAAAAAAAAAAAAAAAAAAAAAAAAAAAAAAAAAAAAAAAAAAAAAAAAAAAAAAAAAAAAAAAAAAAAAAAAAAAAAAAAAAAAAAAAAAAAAAAAAAAAAAAAAAAAAAAAAAAAAAAAAAAAAAAAAAAAAAAAAAAAAAAAAAAAAAAAAAAAAAAAAAAAAAAAAAAAAAAAAAAAAAAAAAAAAAAAAAAAAAAAAAAAAAAAAAAAAAAAAAAAAAAAAAAAAAAAAAAAAAAAAAAAAAAAAAAAAAAAAAAAAAAAAAAAAAAAAAAAAAAAAAAAAAAAAAAAAAAAAAAAAAAAAAAAAAAAAAAAAAAAAAAAAAAAAAAAAAAAAAAAAAAAAAAAAAAAAAAAAAAAAAAAAAAAAAAAAAAAAAAAAAAAAAAAAAAAAAAAAAAAAAAAAAAAAAAAAAAAAAAAAAAAAAAAAAAAAAAAAAAAAAAAAAAAAAAAAAAAAAAAAAAAAAAAAAAAAAAAAAAAAAAAAAAAAAAAAAAAAAAAAAAAAAAAAAAAAAAAAAAAAAAAAAAAAAAAAAAAAAAAAAAAAAAAAAAAAAAAAAAAAAAAAAAAAAAAAAAAAAAAAAAAAAAAAAAAAAAAAAAAAAAAAAAAAAAAAAAAAAAAAAAAAAAAAAAAAAAAAAAAAAAAAAAAAAAAAAAAAAAAAAAAAAAAAAAAAAAAAAAAAAAAAAAAAAAAAAAAAAAAAAAAAAAAAAAAAAAAAAAAAAAAAAAAAAAAAAAAAAAAAAAAAAAAAAAAAAAAAAAAAAAAAAAAAAAAAAAAAAAAAAAAAAAAAAAAAAAAAAAAAAAAAAAAAAAAAAAAAAAAAAAAAAAAAAAAAAAAAAAAA==",
          "dtype": "f8"
         },
         "y": {
          "bdata": "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",
          "dtype": "f8"
         }
        },
        {
         "hoverinfo": "text",
         "hovertext": [
          "(np.float64(0.016248473897576332), np.float64(0.017113544046878815))",
          "(np.float64(0.016248274594545364), np.float64(0.017113419249653816))",
          "(np.float64(0.013514792546629906), np.float64(0.013912339694797993))",
          "(np.float64(0.013514692895114422), np.float64(0.013912160880863667))",
          "(np.float64(0.012906703166663647), np.float64(0.014054316096007824))",
          "(np.float64(0.012906676158308983), np.float64(0.014054124243557453))",
          "(np.float64(0.012846297584474087), np.float64(0.01298417616635561))",
          "(np.float64(0.012846262194216251), np.float64(0.012984282337129116))",
          "(np.float64(0.012816933915019035), np.float64(0.013410013169050217))",
          "(np.float64(0.012816759757697582), np.float64(0.013409990817308426))",
          "(np.float64(0.01226789876818657), np.float64(0.014853323809802532))",
          "(np.float64(0.012267861515283585), np.float64(0.014853307045996189))",
          "(np.float64(0.012227458879351616), np.float64(0.013558804988861084))",
          "(np.float64(0.012227450497448444), np.float64(0.013558804988861084))",
          "(np.float64(0.012155614793300629), np.float64(0.012279133312404156))",
          "(np.float64(0.012155570089817047), np.float64(0.012279110960662365))",
          "(np.float64(0.012125044129788876), np.float64(0.012168828397989273))",
          "(np.float64(0.012124914675951004), np.float64(0.012168830260634422))",
          "(np.float64(0.012030082754790783), np.float64(0.013702796772122383))",
          "(np.float64(0.01203007809817791), np.float64(0.013702793046832085))",
          "(np.float64(0.011935491114854813), np.float64(0.012593993917107582))",
          "(np.float64(0.011935447342693806), np.float64(0.012594002299010754))",
          "(np.float64(0.011734765022993088), np.float64(0.015993034467101097))",
          "(np.float64(0.01173468865454197), np.float64(0.0159931443631649))",
          "(np.float64(0.011686769314110279), np.float64(0.011945399455726147))",
          "(np.float64(0.011686675250530243), np.float64(0.011945291422307491))",
          "(np.float64(0.01082119531929493), np.float64(0.012241506017744541))",
          "(np.float64(0.010821180418133736), np.float64(0.0122414231300354))"
         ],
         "mode": "markers",
         "name": "H1",
         "type": "scatter",
         "x": {
          "bdata": "AAAAoHCjkD8AAABAY6OQPwAAAMCkrYs/AAAAYJetiz8AAABg1G6KPwAAAMDQboo/AAAA4ChPij8AAAAgJE+KPwAAAMDDP4o/AAAAYKw/ij8AAACA6R+JPwAAAIDkH4k/AAAAwLUKiT8AAACgtAqJPwAAAAAL5Yg/AAAAAAXliD8AAADgA9WIPwAAAIDy1Ig/AAAAYDqjiD8AAADAOaOIPwAAAICicYg/AAAAoJxxiD8AAACAZQiIPwAAAEBbCIg/AAAAoDvvhz8AAAAAL++HPwAAAEBsKYY/AAAAQGophj8=",
          "dtype": "f8"
         },
         "y": {
          "bdata": "AAAAgDaGkT8AAAAgLoaRPwAAAKASfow/AAAAoPp9jD8AAABggsiMPwAAAKBoyIw/AAAAoHKXij8AAADggJeKPwAAAIC1dos/AAAAgLJ2iz8AAABga2uOPwAAACBpa44/AAAAALjEiz8AAAAAuMSLPwAAAGDNJYk/AAAAYMoliT8AAACA+OuIPwAAAMD464g/AAAAQDYQjD8AAADANRCMPwAAAEDhyok/AAAAYOLKiT8AAABgemCQPwAAAMCBYJA/AAAAYNR2iD8AAADgxXaIPwAAACATEok/AAAAAAgSiT8=",
          "dtype": "f8"
         }
        }
       ],
       "layout": {
        "height": 500,
        "plot_bgcolor": "white",
        "template": {
         "data": {
          "bar": [
           {
            "error_x": {
             "color": "#2a3f5f"
            },
            "error_y": {
             "color": "#2a3f5f"
            },
            "marker": {
             "line": {
              "color": "#E5ECF6",
              "width": 0.5
             },
             "pattern": {
              "fillmode": "overlay",
              "size": 10,
              "solidity": 0.2
             }
            },
            "type": "bar"
           }
          ],
          "barpolar": [
           {
            "marker": {
             "line": {
              "color": "#E5ECF6",
              "width": 0.5
             },
             "pattern": {
              "fillmode": "overlay",
              "size": 10,
              "solidity": 0.2
             }
            },
            "type": "barpolar"
           }
          ],
          "carpet": [
           {
            "aaxis": {
             "endlinecolor": "#2a3f5f",
             "gridcolor": "white",
             "linecolor": "white",
             "minorgridcolor": "white",
             "startlinecolor": "#2a3f5f"
            },
            "baxis": {
             "endlinecolor": "#2a3f5f",
             "gridcolor": "white",
             "linecolor": "white",
             "minorgridcolor": "white",
             "startlinecolor": "#2a3f5f"
            },
            "type": "carpet"
           }
          ],
          "choropleth": [
           {
            "colorbar": {
             "outlinewidth": 0,
             "ticks": ""
            },
            "type": "choropleth"
           }
          ],
          "contour": [
           {
            "colorbar": {
             "outlinewidth": 0,
             "ticks": ""
            },
            "colorscale": [
             [
              0,
              "#0d0887"
             ],
             [
              0.1111111111111111,
              "#46039f"
             ],
             [
              0.2222222222222222,
              "#7201a8"
             ],
             [
              0.3333333333333333,
              "#9c179e"
             ],
             [
              0.4444444444444444,
              "#bd3786"
             ],
             [
              0.5555555555555556,
              "#d8576b"
             ],
             [
              0.6666666666666666,
              "#ed7953"
             ],
             [
              0.7777777777777778,
              "#fb9f3a"
             ],
             [
              0.8888888888888888,
              "#fdca26"
             ],
             [
              1,
              "#f0f921"
             ]
            ],
            "type": "contour"
           }
          ],
          "contourcarpet": [
           {
            "colorbar": {
             "outlinewidth": 0,
             "ticks": ""
            },
            "type": "contourcarpet"
           }
          ],
          "heatmap": [
           {
            "colorbar": {
             "outlinewidth": 0,
             "ticks": ""
            },
            "colorscale": [
             [
              0,
              "#0d0887"
             ],
             [
              0.1111111111111111,
              "#46039f"
             ],
             [
              0.2222222222222222,
              "#7201a8"
             ],
             [
              0.3333333333333333,
              "#9c179e"
             ],
             [
              0.4444444444444444,
              "#bd3786"
             ],
             [
              0.5555555555555556,
              "#d8576b"
             ],
             [
              0.6666666666666666,
              "#ed7953"
             ],
             [
              0.7777777777777778,
              "#fb9f3a"
             ],
             [
              0.8888888888888888,
              "#fdca26"
             ],
             [
              1,
              "#f0f921"
             ]
            ],
            "type": "heatmap"
           }
          ],
          "histogram": [
           {
            "marker": {
             "pattern": {
              "fillmode": "overlay",
              "size": 10,
              "solidity": 0.2
             }
            },
            "type": "histogram"
           }
          ],
          "histogram2d": [
           {
            "colorbar": {
             "outlinewidth": 0,
             "ticks": ""
            },
            "colorscale": [
             [
              0,
              "#0d0887"
             ],
             [
              0.1111111111111111,
              "#46039f"
             ],
             [
              0.2222222222222222,
              "#7201a8"
             ],
             [
              0.3333333333333333,
              "#9c179e"
             ],
             [
              0.4444444444444444,
              "#bd3786"
             ],
             [
              0.5555555555555556,
              "#d8576b"
             ],
             [
              0.6666666666666666,
              "#ed7953"
             ],
             [
              0.7777777777777778,
              "#fb9f3a"
             ],
             [
              0.8888888888888888,
              "#fdca26"
             ],
             [
              1,
              "#f0f921"
             ]
            ],
            "type": "histogram2d"
           }
          ],
          "histogram2dcontour": [
           {
            "colorbar": {
             "outlinewidth": 0,
             "ticks": ""
            },
            "colorscale": [
             [
              0,
              "#0d0887"
             ],
             [
              0.1111111111111111,
              "#46039f"
             ],
             [
              0.2222222222222222,
              "#7201a8"
             ],
             [
              0.3333333333333333,
              "#9c179e"
             ],
             [
              0.4444444444444444,
              "#bd3786"
             ],
             [
              0.5555555555555556,
              "#d8576b"
             ],
             [
              0.6666666666666666,
              "#ed7953"
             ],
             [
              0.7777777777777778,
              "#fb9f3a"
             ],
             [
              0.8888888888888888,
              "#fdca26"
             ],
             [
              1,
              "#f0f921"
             ]
            ],
            "type": "histogram2dcontour"
           }
          ],
          "mesh3d": [
           {
            "colorbar": {
             "outlinewidth": 0,
             "ticks": ""
            },
            "type": "mesh3d"
           }
          ],
          "parcoords": [
           {
            "line": {
             "colorbar": {
              "outlinewidth": 0,
              "ticks": ""
             }
            },
            "type": "parcoords"
           }
          ],
          "pie": [
           {
            "automargin": true,
            "type": "pie"
           }
          ],
          "scatter": [
           {
            "fillpattern": {
             "fillmode": "overlay",
             "size": 10,
             "solidity": 0.2
            },
            "type": "scatter"
           }
          ],
          "scatter3d": [
           {
            "line": {
             "colorbar": {
              "outlinewidth": 0,
              "ticks": ""
             }
            },
            "marker": {
             "colorbar": {
              "outlinewidth": 0,
              "ticks": ""
             }
            },
            "type": "scatter3d"
           }
          ],
          "scattercarpet": [
           {
            "marker": {
             "colorbar": {
              "outlinewidth": 0,
              "ticks": ""
             }
            },
            "type": "scattercarpet"
           }
          ],
          "scattergeo": [
           {
            "marker": {
             "colorbar": {
              "outlinewidth": 0,
              "ticks": ""
             }
            },
            "type": "scattergeo"
           }
          ],
          "scattergl": [
           {
            "marker": {
             "colorbar": {
              "outlinewidth": 0,
              "ticks": ""
             }
            },
            "type": "scattergl"
           }
          ],
          "scattermap": [
           {
            "marker": {
             "colorbar": {
              "outlinewidth": 0,
              "ticks": ""
             }
            },
            "type": "scattermap"
           }
          ],
          "scattermapbox": [
           {
            "marker": {
             "colorbar": {
              "outlinewidth": 0,
              "ticks": ""
             }
            },
            "type": "scattermapbox"
           }
          ],
          "scatterpolar": [
           {
            "marker": {
             "colorbar": {
              "outlinewidth": 0,
              "ticks": ""
             }
            },
            "type": "scatterpolar"
           }
          ],
          "scatterpolargl": [
           {
            "marker": {
             "colorbar": {
              "outlinewidth": 0,
              "ticks": ""
             }
            },
            "type": "scatterpolargl"
           }
          ],
          "scatterternary": [
           {
            "marker": {
             "colorbar": {
              "outlinewidth": 0,
              "ticks": ""
             }
            },
            "type": "scatterternary"
           }
          ],
          "surface": [
           {
            "colorbar": {
             "outlinewidth": 0,
             "ticks": ""
            },
            "colorscale": [
             [
              0,
              "#0d0887"
             ],
             [
              0.1111111111111111,
              "#46039f"
             ],
             [
              0.2222222222222222,
              "#7201a8"
             ],
             [
              0.3333333333333333,
              "#9c179e"
             ],
             [
              0.4444444444444444,
              "#bd3786"
             ],
             [
              0.5555555555555556,
              "#d8576b"
             ],
             [
              0.6666666666666666,
              "#ed7953"
             ],
             [
              0.7777777777777778,
              "#fb9f3a"
             ],
             [
              0.8888888888888888,
              "#fdca26"
             ],
             [
              1,
              "#f0f921"
             ]
            ],
            "type": "surface"
           }
          ],
          "table": [
           {
            "cells": {
             "fill": {
              "color": "#EBF0F8"
             },
             "line": {
              "color": "white"
             }
            },
            "header": {
             "fill": {
              "color": "#C8D4E3"
             },
             "line": {
              "color": "white"
             }
            },
            "type": "table"
           }
          ]
         },
         "layout": {
          "annotationdefaults": {
           "arrowcolor": "#2a3f5f",
           "arrowhead": 0,
           "arrowwidth": 1
          },
          "autotypenumbers": "strict",
          "coloraxis": {
           "colorbar": {
            "outlinewidth": 0,
            "ticks": ""
           }
          },
          "colorscale": {
           "diverging": [
            [
             0,
             "#8e0152"
            ],
            [
             0.1,
             "#c51b7d"
            ],
            [
             0.2,
             "#de77ae"
            ],
            [
             0.3,
             "#f1b6da"
            ],
            [
             0.4,
             "#fde0ef"
            ],
            [
             0.5,
             "#f7f7f7"
            ],
            [
             0.6,
             "#e6f5d0"
            ],
            [
             0.7,
             "#b8e186"
            ],
            [
             0.8,
             "#7fbc41"
            ],
            [
             0.9,
             "#4d9221"
            ],
            [
             1,
             "#276419"
            ]
           ],
           "sequential": [
            [
             0,
             "#0d0887"
            ],
            [
             0.1111111111111111,
             "#46039f"
            ],
            [
             0.2222222222222222,
             "#7201a8"
            ],
            [
             0.3333333333333333,
             "#9c179e"
            ],
            [
             0.4444444444444444,
             "#bd3786"
            ],
            [
             0.5555555555555556,
             "#d8576b"
            ],
            [
             0.6666666666666666,
             "#ed7953"
            ],
            [
             0.7777777777777778,
             "#fb9f3a"
            ],
            [
             0.8888888888888888,
             "#fdca26"
            ],
            [
             1,
             "#f0f921"
            ]
           ],
           "sequentialminus": [
            [
             0,
             "#0d0887"
            ],
            [
             0.1111111111111111,
             "#46039f"
            ],
            [
             0.2222222222222222,
             "#7201a8"
            ],
            [
             0.3333333333333333,
             "#9c179e"
            ],
            [
             0.4444444444444444,
             "#bd3786"
            ],
            [
             0.5555555555555556,
             "#d8576b"
            ],
            [
             0.6666666666666666,
             "#ed7953"
            ],
            [
             0.7777777777777778,
             "#fb9f3a"
            ],
            [
             0.8888888888888888,
             "#fdca26"
            ],
            [
             1,
             "#f0f921"
            ]
           ]
          },
          "colorway": [
           "#636efa",
           "#EF553B",
           "#00cc96",
           "#ab63fa",
           "#FFA15A",
           "#19d3f3",
           "#FF6692",
           "#B6E880",
           "#FF97FF",
           "#FECB52"
          ],
          "font": {
           "color": "#2a3f5f"
          },
          "geo": {
           "bgcolor": "white",
           "lakecolor": "white",
           "landcolor": "#E5ECF6",
           "showlakes": true,
           "showland": true,
           "subunitcolor": "white"
          },
          "hoverlabel": {
           "align": "left"
          },
          "hovermode": "closest",
          "mapbox": {
           "style": "light"
          },
          "paper_bgcolor": "white",
          "plot_bgcolor": "#E5ECF6",
          "polar": {
           "angularaxis": {
            "gridcolor": "white",
            "linecolor": "white",
            "ticks": ""
           },
           "bgcolor": "#E5ECF6",
           "radialaxis": {
            "gridcolor": "white",
            "linecolor": "white",
            "ticks": ""
           }
          },
          "scene": {
           "xaxis": {
            "backgroundcolor": "#E5ECF6",
            "gridcolor": "white",
            "gridwidth": 2,
            "linecolor": "white",
            "showbackground": true,
            "ticks": "",
            "zerolinecolor": "white"
           },
           "yaxis": {
            "backgroundcolor": "#E5ECF6",
            "gridcolor": "white",
            "gridwidth": 2,
            "linecolor": "white",
            "showbackground": true,
            "ticks": "",
            "zerolinecolor": "white"
           },
           "zaxis": {
            "backgroundcolor": "#E5ECF6",
            "gridcolor": "white",
            "gridwidth": 2,
            "linecolor": "white",
            "showbackground": true,
            "ticks": "",
            "zerolinecolor": "white"
           }
          },
          "shapedefaults": {
           "line": {
            "color": "#2a3f5f"
           }
          },
          "ternary": {
           "aaxis": {
            "gridcolor": "white",
            "linecolor": "white",
            "ticks": ""
           },
           "baxis": {
            "gridcolor": "white",
            "linecolor": "white",
            "ticks": ""
           },
           "bgcolor": "#E5ECF6",
           "caxis": {
            "gridcolor": "white",
            "linecolor": "white",
            "ticks": ""
           }
          },
          "title": {
           "x": 0.05
          },
          "xaxis": {
           "automargin": true,
           "gridcolor": "white",
           "linecolor": "white",
           "ticks": "",
           "title": {
            "standoff": 15
           },
           "zerolinecolor": "white",
           "zerolinewidth": 2
          },
          "yaxis": {
           "automargin": true,
           "gridcolor": "white",
           "linecolor": "white",
           "ticks": "",
           "title": {
            "standoff": 15
           },
           "zerolinecolor": "white",
           "zerolinewidth": 2
          }
         }
        },
        "width": 500,
        "xaxis": {
         "autorange": false,
         "exponentformat": "e",
         "linecolor": "black",
         "linewidth": 1,
         "mirror": false,
         "range": [
          -0.043315162658691404,
          2.209073295593262
         ],
         "showexponent": "all",
         "showline": true,
         "side": "bottom",
         "ticks": "outside",
         "title": {
          "text": "Birth"
         },
         "type": "linear",
         "zeroline": true
        },
        "yaxis": {
         "autorange": false,
         "exponentformat": "e",
         "linecolor": "black",
         "linewidth": 1,
         "mirror": false,
         "range": [
          -0.043315162658691404,
          2.209073295593262
         ],
         "scaleanchor": "x",
         "scaleratio": 1,
         "showexponent": "all",
         "showline": true,
         "side": "left",
         "ticks": "outside",
         "title": {
          "text": "Death"
         },
         "type": "linear",
         "zeroline": true
        }
       }
      }
     },
     "metadata": {},
     "output_type": "display_data"
    }
   ],
   "source": [
    "lay_num = 2\n",
    "X = X_layer[lay_num] \n",
    "\n",
    "# Izračunamo vztrajno homologijo\n",
    "vr = VietorisRipsPersistence(homology_dimensions=[0, 1])  # H0, H1\n",
    "diagrams = vr.fit_transform([X])\n",
    "\n",
    "plot_diagram(diagrams[0])"
   ]
  },
  {
   "cell_type": "code",
   "execution_count": 18,
   "id": "cebe9a1b",
   "metadata": {},
   "outputs": [],
   "source": [
    "X = X_layer[2]\n",
    "\n",
    "# Create the RipsComplex\n",
    "rips_complex = gd.RipsComplex(points=X, max_edge_length=2.0)\n",
    "\n",
    "# Create a simplex tree (filtration)\n",
    "simplex_tree = rips_complex.create_simplex_tree(max_dimension=2)\n",
    "\n",
    "# Compute persistence\n",
    "diag = simplex_tree.persistence(homology_coeff_field=2, min_persistence=0.01)"
   ]
  },
  {
   "cell_type": "code",
   "execution_count": 19,
   "id": "3a54b353",
   "metadata": {},
   "outputs": [
    {
     "data": {
      "text/plain": [
       "Text(0.5, 1.0, 'Persistence Barcode')"
      ]
     },
     "execution_count": 19,
     "metadata": {},
     "output_type": "execute_result"
    },
    {
     "data": {
      "image/png": "[encoded data removed]",
      "text/plain": [
       "<Figure size 640x480 with 1 Axes>"
      ]
     },
     "metadata": {},
     "output_type": "display_data"
    },
    {
     "data": {
      "image/png": "[encoded data removed]",
      "text/plain": [
       "<Figure size 640x480 with 1 Axes>"
      ]
     },
     "metadata": {},
     "output_type": "display_data"
    }
   ],
   "source": [
    "# Plot persistence diagram\n",
    "gd.plot_persistence_diagram(diag)\n",
    "plt.title(\"Persistence Diagram\")\n",
    "\n",
    "# Plot barcode\n",
    "gd.plot_persistence_barcode(diag)\n",
    "plt.title(\"Persistence Barcode\")"
   ]
  }
 ],
 "metadata": {
  "kernelspec": {
   "display_name": "Python 3 (ipykernel)",
   "language": "python",
   "name": "python3"
  },
  "language_info": {
   "codemirror_mode": {
    "name": "ipython",
    "version": 3
   },
   "file_extension": ".py",
   "mimetype": "text/x-python",
   "name": "python",
   "nbconvert_exporter": "python",
   "pygments_lexer": "ipython3",
   "version": "3.10.17"
  }
 },
 "nbformat": 4,
 "nbformat_minor": 5
}
